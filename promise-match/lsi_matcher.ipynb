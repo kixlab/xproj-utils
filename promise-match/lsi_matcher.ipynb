{
 "cells": [
  {
   "cell_type": "code",
   "execution_count": 2,
   "metadata": {
    "collapsed": true
   },
   "outputs": [],
   "source": [
    "import logging\n",
    "logging.getLogger().setLevel(logging.WARNING)\n",
    "\n",
    "from konlpy.corpus import kobill, kolaw\n",
    "from konlpy.tag import Twitter\n",
    "twitter = Twitter()\n",
    "\n",
    "stopwords = \"수 년 등 및 몇 중 네이버 뉴스\".split()\n",
    "stopwords += \"공급 설치 조성 운영 실행 설립 확대 제공 실시 지원 검토 육성 추진 유치 강화 개선 구축 마련 확충 실시 개선 해소\".split()\n",
    "stopwords = set(stopwords)\n",
    "\n",
    "pos = lambda d: ['/'.join(p) for p in twitter.pos(d, stem=True, norm=True) if p[0] not in stopwords and p[1] in ('Noun', 'Verb', 'Alpha', 'Adjective')]"
   ]
  },
  {
   "cell_type": "code",
   "execution_count": 3,
   "metadata": {},
   "outputs": [
    {
     "data": {
      "text/plain": [
       "[('청각장애', 'Noun'),\n",
       " ('인과', 'Noun'),\n",
       " ('함께', 'Adverb'),\n",
       " ('CCTV', 'Alpha'),\n",
       " ('로', 'Noun'),\n",
       " ('만들다', 'Verb'),\n",
       " ('안전하다', 'Adjective'),\n",
       " ('서울', 'Noun')]"
      ]
     },
     "execution_count": 3,
     "metadata": {},
     "output_type": "execute_result"
    }
   ],
   "source": [
    "twitter.pos('청각장애인과 함께 CCTV로 만드는 안전한 서울', stem=True, norm=True)"
   ]
  },
  {
   "cell_type": "code",
   "execution_count": 4,
   "metadata": {},
   "outputs": [
    {
     "name": "stdout",
     "output_type": "stream",
     "text": [
      "CPU times: user 7.31 s, sys: 172 ms, total: 7.48 s\n",
      "Wall time: 3.55 s\n"
     ]
    }
   ],
   "source": [
    "%%time\n",
    "texts_kobill = [pos(kobill.open(i).read()) for i in kobill.fileids()]\n",
    "texts_kolaw = [pos(kolaw.open(i).read()) for i in kolaw.fileids()]"
   ]
  },
  {
   "cell_type": "code",
   "execution_count": null,
   "metadata": {
    "collapsed": true
   },
   "outputs": [],
   "source": []
  },
  {
   "cell_type": "code",
   "execution_count": 107,
   "metadata": {},
   "outputs": [
    {
     "name": "stdout",
     "output_type": "stream",
     "text": [
      "1328\n",
      "CPU times: user 1.27 s, sys: 801 ms, total: 2.08 s\n",
      "Wall time: 2.94 s\n"
     ]
    }
   ],
   "source": [
    "%%time\n",
    "import json\n",
    "\n",
    "texts = []\n",
    "\n",
    "for fname in ('jisa_tagged.json', 'mayor_tagged.json',):\n",
    "    with open(fname) as data_file:    \n",
    "        data = json.load(data_file)\n",
    "        for voting_district in data:\n",
    "            if voting_district['city'] != 'seoul' or voting_district['district'] > 25:\n",
    "                continue\n",
    "            promises = voting_district['promises']\n",
    "            for p in promises:\n",
    "                texts.append((p['title'], pos(p['title']), (voting_district['city'], voting_district['district'])))\n",
    "\n",
    "texts_promises = [text[1] for text in texts]\n",
    "print(len(texts_promises))"
   ]
  },
  {
   "cell_type": "code",
   "execution_count": 108,
   "metadata": {},
   "outputs": [
    {
     "data": {
      "text/plain": [
       "{0,\n",
       " 1,\n",
       " 2,\n",
       " 3,\n",
       " 4,\n",
       " 7,\n",
       " 8,\n",
       " 9,\n",
       " 10,\n",
       " 11,\n",
       " 12,\n",
       " 13,\n",
       " 14,\n",
       " 15,\n",
       " 16,\n",
       " 17,\n",
       " 18,\n",
       " 19,\n",
       " 20,\n",
       " 21,\n",
       " 23,\n",
       " 24,\n",
       " 25}"
      ]
     },
     "execution_count": 108,
     "metadata": {},
     "output_type": "execute_result"
    }
   ],
   "source": [
    "set([d[2][1] for d in texts])"
   ]
  },
  {
   "cell_type": "code",
   "execution_count": 109,
   "metadata": {
    "collapsed": true
   },
   "outputs": [],
   "source": [
    "from gensim import corpora, models\n",
    "# Create dictionary\n",
    "corpus = texts_kobill + texts_kolaw + texts_promises\n",
    "#corpus = texts_promises\n",
    "logging.info('Dictionary from %d documents' % len(corpus))\n",
    "dictionary_ko = corpora.Dictionary(corpus)\n",
    "# Filter terms that occur in more than 2% of the documents\n",
    "dictionary_ko.filter_extremes(no_below=0, no_above=0.02)\n",
    "# Save for later use\n",
    "dictionary_ko.save('ko.dict')"
   ]
  },
  {
   "cell_type": "code",
   "execution_count": 110,
   "metadata": {},
   "outputs": [
    {
     "name": "stderr",
     "output_type": "stream",
     "text": [
      "WARNING:gensim.similarities.docsim:scanning corpus to determine the number of features (consider setting `num_features` explicitly)\n"
     ]
    },
    {
     "name": "stdout",
     "output_type": "stream",
     "text": [
      "CPU times: user 542 ms, sys: 63.6 ms, total: 606 ms\n",
      "Wall time: 617 ms\n"
     ]
    }
   ],
   "source": [
    "%%time\n",
    "from gensim import similarities\n",
    "\n",
    "num_topics = 50\n",
    "\n",
    "# Generate Lsi model for promise text corpus\n",
    "corpus = [dictionary_ko.doc2bow(text) for text in texts_promises]\n",
    "# Train Lsi model\n",
    "lsi = models.LsiModel(corpus, id2word=dictionary_ko, num_topics=num_topics)\n",
    "# Transform corpus to LSI space and index it\n",
    "lsi_corpus = lsi[corpus]\n",
    "index = similarities.MatrixSimilarity(lsi_corpus)"
   ]
  },
  {
   "cell_type": "code",
   "execution_count": 111,
   "metadata": {},
   "outputs": [
    {
     "name": "stdout",
     "output_type": "stream",
     "text": [
      "Most similar to 동북아 대도시 대기환경협의체 구성 및 대기개선 노하우 공유 (동북아/Noun 대도시/Noun 대기/Noun 환경/Noun 협의/Noun 체/Noun 구성/Noun 대기/Noun 노하우/Noun 공유/Noun)\n",
      "1.00 - 교육지원협의체 구성\n",
      "0.98 - 동대문구 일자리창출정책협의회 구성\n",
      "0.97 - 4) 복지 네트워크 구성 및 사회적 연대틀 강화\n",
      "0.96 - 도시 아카데미 구성\n",
      "0.95 - 지방의회 산하 생활안정센터 구성\n",
      "0.92 - 구룡마을 문제 해결을 위한 전문가협의체 구성 및 합리적 방안 모색\n",
      "0.92 - 다문화 가정 지원을 위한 전담팀 구성 · 운영\n",
      "0.84 - 강북구 학교폭력예방지원협의회 설치\n",
      "0.84 - 생활구정 혁신본부 구성\n",
      "0.75 - 서울-세종 간 고속도로 강동통과 반대 지속 협의\n"
     ]
    }
   ],
   "source": [
    "def find_similar(tagged_text, similarity_threshold=None):\n",
    "    # Convert text to bag of words\n",
    "    vec_bow = dictionary_ko.doc2bow(tagged_text)\n",
    "    # Convert the query to LSI space\n",
    "    vec_lsi = lsi[vec_bow]\n",
    "    # Perform a similarity query against the corpus\n",
    "    sims = enumerate(index[vec_lsi])\n",
    "    if similarity_threshold:\n",
    "        sims = filter(lambda item: item[1] >= similarity_threshold, sims)\n",
    "    # Return the similarities sorted by descending score\n",
    "    return sorted(sims, key=lambda item: -item[1])\n",
    "    \n",
    "# Try to match a few existing documents\n",
    "\n",
    "for text in texts[100:101]:\n",
    "    sims = find_similar(text[1], similarity_threshold=0.75)\n",
    "    print(\"Most similar to %s (%s)\" % (text[0], ' '.join(text[1])))\n",
    "    for key, score in sims[1:]:\n",
    "        key = int(key)\n",
    "        print('%.2f - %s' % (score, texts[key][0]))\n"
   ]
  },
  {
   "cell_type": "code",
   "execution_count": 112,
   "metadata": {},
   "outputs": [
    {
     "name": "stdout",
     "output_type": "stream",
     "text": [
      "Number of matches per document: max 26, min 0, mean 8.45, median 8\n",
      "7 documents didn't match with themself as their best match\n",
      "  but 2 of them matched at pos 1.\n",
      "56 (11%) with 0 matches\n",
      "CPU times: user 1.12 s, sys: 19.8 ms, total: 1.14 s\n",
      "Wall time: 1.21 s\n"
     ]
    }
   ],
   "source": [
    "%%time\n",
    "import numpy as np\n",
    "# Find similarities of all documents with each other and see how many matches higher than x score there are\n",
    "# Used to figure out a threshold that regards enough documents as matched\n",
    "threshold = 0.75\n",
    "counts = []\n",
    "counts_self_no_match = []\n",
    "for idx, text in enumerate(texts[:500]):\n",
    "    similarities = np.array(find_similar(text[1]))\n",
    "    # Remove self-similarity\n",
    "    id_idx = np.where(similarities[:, 0]==idx)[0][0]\n",
    "    similarities = np.delete(similarities, id_idx, axis=0)\n",
    "    # Record when self wasn't the best match (it is usally the 2nd best in these cases)\n",
    "    if id_idx != 0:\n",
    "        counts_self_no_match.append((idx, id_idx))\n",
    "    # Count number of docs with similarity >= threshold\n",
    "    count = np.sum(similarities[:,1]>=threshold)\n",
    "    counts.append(count)\n",
    "\n",
    "counts = np.array(counts)\n",
    "counts_self_no_match = np.array(counts_self_no_match)\n",
    "print('Number of matches per document: max %d, min %d, mean %.2f, median %d' % (np.max(counts), np.min(counts), np.mean(counts), np.median(counts)))\n",
    "print('%d documents didn\\'t match with themself as their best match' % (len(counts_self_no_match)))\n",
    "if len(counts_self_no_match):\n",
    "    print('  but %d of them matched at pos 1.' % (np.sum(counts_self_no_match[:,1]==1)))\n",
    "\n",
    "no_match_count = np.sum(counts==0)\n",
    "print('%d (%d%%) with 0 matches' % (no_match_count, 100*no_match_count/len(counts)))"
   ]
  },
  {
   "cell_type": "code",
   "execution_count": 113,
   "metadata": {},
   "outputs": [
    {
     "name": "stdout",
     "output_type": "stream",
     "text": [
      "Document with highest number of matches:\n",
      "('장애인회관 건립', ['장애인/Noun', '회관/Noun', '건립/Noun'], ('seoul', 3))\n"
     ]
    }
   ],
   "source": [
    "print(\"Document with highest number of matches:\")\n",
    "print(texts[np.argmax(counts)])"
   ]
  },
  {
   "cell_type": "code",
   "execution_count": 114,
   "metadata": {},
   "outputs": [
    {
     "name": "stdout",
     "output_type": "stream",
     "text": [
      "Unmatched documents:\n",
      "어린이 보호구역 내 교통사고 ZERO 목표로 종합대책 추진 ['어린이/Noun', '보호/Noun', '구역/Noun', '내/Noun', '교통사고/Noun', 'ZERO/Alpha', '목표/Noun', '종합/Noun', '대책/Noun']\n",
      "동대문 창조경제 클러스터 육성 ['동대문/Noun', '창조경제/Noun', '클러스터/Noun']\n",
      "공공서비스 중심 맞춤형 100대 적합업종 발굴 ['공공/Noun', '서비스/Noun', '중심/Noun', '맞춤/Noun', '대다/Verb', '적합/Noun', '업종/Noun', '발굴/Noun']\n",
      "자영업 지원센터’ 설치 ['자/Noun', '영업/Noun', '센터/Noun']\n",
      "성곽마을 재생프로젝트를 통한 유럽형 명품주거단지 조성 ['성곽/Noun', '마을/Noun', '재생/Noun', '프로젝트/Noun', '통한/Noun', '유럽/Noun', '명품/Noun', '주거/Noun', '단지/Noun']\n",
      "서울형 도시재생 1조원 투자 ['서울/Noun', '도시재생/Noun', '조원/Noun', '투자/Noun']\n",
      "서울형인증제 확대로 요양서비스 질 제고 ['서울/Noun', '인증/Noun', '제/Noun', '요양/Noun', '서비스/Noun', '질/Noun', '제/Noun']\n",
      "50+ 사회공헌아카데미 교육 확대 ['사회/Noun', '공헌/Noun', '아카데미/Noun', '교육/Noun']\n",
      "50+ 경험과 노하우를 배우는 온라인 인생학교(TED) 조성 ['경험/Noun', '노하우/Noun', '배우다/Verb', '온라인/Noun', '인생/Noun', '학교/Noun', 'TED/Alpha']\n",
      "돌봄 주부를 위한 주부휴가제 시행 ['돌보다/Verb', '주부/Noun', '위/Noun', '하다/Verb', '주부/Noun', '휴가/Noun', '제/Noun', '시행/Noun']\n",
      "<안심귀가 스카우트> 확대 운영 ['안심/Noun', '귀가/Noun', '스카우트/Noun']\n",
      "서울 주택임대차 분쟁조정위원회 권한 강화 ['서울/Noun', '주택/Noun', '임대차/Noun', '분쟁/Noun', '조정/Noun', '위원회/Noun', '권한/Noun']\n",
      "서울시네마테크’ 건립 ['서울/Noun', '시네마테크/Noun', '건립/Noun']\n",
      "콘서트 홀’ 건립 ['콘서트/Noun', '홀/Noun', '건립/Noun']\n",
      "생활체육 주말시민리그제 운영 ['생활/Noun', '체육/Noun', '주말/Noun', '시민/Noun', '리그/Noun', '제/Noun']\n",
      "생활서비스 제공하는 사회적경제기업 육성 ['생활/Noun', '서비스/Noun', '하다/Verb', '사회/Noun', '경제/Noun', '기업/Noun']\n",
      "커뮤니티 매핑을 통한 시민참여형 재난극복시스템 구축 ['커뮤니티/Noun', '매핑/Noun', '통한/Noun', '시민/Noun', '참여/Noun', '재난/Noun', '극복/Noun', '시스템/Noun']\n",
      "“디지털 싱크탱크 : 서울디지털재단” 설립 ['디지털/Noun', '싱크탱크/Noun', '서울/Noun', '디지털/Noun', '재단/Noun']\n",
      "공원과 산책로 칼로리 게시판 후원합니다 ['공원/Noun', '산책로/Noun', '칼로리/Noun', '게시판/Noun', '후원/Noun', '하다/Verb']\n",
      "다문화 창업, 서울시가 힘을 보탭니다 ['다문화/Noun', '창업/Noun', '서울시/Noun', '힘/Noun', '보탭니/Noun']\n",
      "중증장애인 및 독거노인을 위한 이동식 이불빨래방! ['증장/Noun', '애인/Noun', '독거/Noun', '노인/Noun', '위/Noun', '하다/Verb', '이동식/Noun', '이불/Noun', '빨래/Noun', '방/Noun']\n",
      "‘희망서울, 행복가족’을 발간하겠습니다 ['희망/Noun', '서울/Noun', '행복/Noun', '가족/Noun', '발간/Noun', '하다/Verb']\n",
      "달리는 공기청정기로 미세먼지 잡아요! ['달리다/Verb', '공기청정기/Noun', '미세먼지/Noun', '잡다/Verb']\n",
      "나무와 꽃에 이름표를 함께 달아요 ['나무/Noun', '꽃/Noun', '이름/Noun', '표/Noun', '달다/Verb']\n",
      "집으로 시청을 배달합니다 ['집/Noun', '시청/Noun', '배달/Noun', '하다/Verb']\n",
      "노인상대 사기범죄! ‘실버 보안관’이 지킨다 ['노인/Noun', '상대/Noun', '사기/Noun', '범죄/Noun', '실버/Noun', '보안관/Noun', '이/Noun', '지키다/Verb']\n",
      "부모와 자녀가 함께 만드는 ‘패밀리셰프’ ['부모/Noun', '자녀/Noun', '만들다/Verb', '패밀리/Noun', '셰프/Noun']\n",
      "식품에 대한 방사능검사 실시 ['식품/Noun', '대한/Noun', '방사/Noun', '능/Noun', '검사/Noun']\n",
      "사고위치 번호판 운영 ['사고/Noun', '위치/Noun', '번호판/Noun']\n",
      "딱 맞춤 분리수거 쓰레기통 설치 ['맞춤/Noun', '분리수거/Noun', '쓰레기통/Noun']\n",
      "불필요한 규제 대폭 철폐 ['불필요하다/Adjective', '규제/Noun', '대폭/Noun', '철폐/Noun']\n",
      "글로벌 의료관광 육성 ['글로벌/Noun', '의료관광/Noun']\n",
      "금융기관 본점 등 건실한 기업 유치 ['금융기관/Noun', '본점/Noun', '건실/Noun', '기업/Noun']\n",
      "사교육 수요가 많은 수리 · 언어 부문 집중지원 ['사교육/Noun', '수요/Noun', '많다/Adjective', '수리/Noun', '언어/Noun', '부문/Noun', '집중/Noun']\n",
      "준비물 부담 해방을 위한 지원방안 마련 ['준비물/Noun', '부담/Noun', '해방/Noun', '위/Noun', '하다/Verb', '방안/Noun']\n",
      "강남 도심에 묻혀 있는 문화자산 적극 재발견 ['강남/Noun', '도심/Noun', '묻히다/Verb', '있다/Adjective', '문화/Noun', '자산/Noun', '적극/Noun', '재/Noun', '발견/Noun']\n",
      "수서 '물재생센터'의 친환경적 개선 검토 ['수서/Noun', '물/Noun', '재생/Noun', '센터/Noun', '의/Noun', '친환경/Noun']\n",
      "공직사회 무사안일 · 복지부동 추방 ['공직/Noun', '사회/Noun', '무사/Noun', '안일/Noun', '복지/Noun', '부동/Noun', '추방/Noun']\n",
      "부정, 부패 직원 일벌백계 및 신상필벌 확행 ['부정/Noun', '부패/Noun', '직원/Noun', '일벌/Noun', '계/Noun', '신상/Noun', '필벌/Noun', '확행/Noun']\n",
      "각종 재난재해의 예방교육 및 대처에 만전 ['각종/Noun', '재난/Noun', '재해/Noun', '예방/Noun', '교육/Noun', '대처/Noun', '만전/Noun']\n",
      "구암서원 건립 추진 ['구암서원/Noun', '건립/Noun']\n",
      "암사역사생태공원 조성 ['암사역/Noun', '사생/Noun', '태공/Noun']\n",
      "리틀야구장 조성 ['리틀/Noun', '야구장/Noun']\n",
      "CI 리뉴얼 ['CI/Alpha', '리뉴얼/Noun']\n",
      "친환경 재건축으로 고품격 주거도시 건설 ['친환경/Noun', '재건축/Noun', '고품격/Noun', '주거/Noun', '도시/Noun', '건설/Noun']\n",
      "천호뉴타운 사업 지속 추진 및 천호1･3동 재정비 ['천호/Noun', '뉴타운/Noun', '사업/Noun', '지속/Noun', '천호/Noun', '동/Noun', '재정/Noun', '비/Noun']\n",
      "유해 음식물 없는 환경 조성 ['유해/Noun', '음식물/Noun', '없다/Adjective', '환경/Noun']\n",
      "청년일자리 마련 ['청년/Noun', '일자리/Noun']\n",
      "암사대교 건립 ['암사대교/Noun', '건립/Noun']\n",
      "노인복지시설 건립 ['노인/Noun', '복지/Noun', '시설/Noun', '건립/Noun']\n",
      "학교 교육지원비 확대 ['학교/Noun', '교육/Noun', '비/Noun']\n",
      "관급공사 내역 공개 ['관/Noun', '공사/Noun', '역/Noun', '공개/Noun']\n",
      "평생교육프로그램 강화 ['평생교육/Noun', '프로그램/Noun']\n",
      "방화로 개통 ['방화/Noun', '개통/Noun']\n",
      "성과 평가제 확립 ['성과/Noun', '평가/Noun', '제/Noun', '확립/Noun']\n",
      "초등학개 농·산촌 유학 지원 ['초등/Noun', '학개/Noun', '농/Noun', '산촌/Noun', '유학/Noun']\n"
     ]
    }
   ],
   "source": [
    "print(\"Unmatched documents:\")\n",
    "for idx in np.where(counts==0)[0]:\n",
    "    print(texts[idx][0], texts[idx][1])"
   ]
  },
  {
   "cell_type": "code",
   "execution_count": 116,
   "metadata": {},
   "outputs": [
    {
     "name": "stdout",
     "output_type": "stream",
     "text": [
      "Most similar to 임대주택 (임대주택/Noun)\n",
      " 1. 0.98 - 8) 대학생 임대주택 공급 지원 - seoul 17\n",
      " 2. 0.96 - 장기 공공임대주택 2500호 공급 -> 장기 공공임대주택 2,400호 공급 - seoul 16\n",
      " 3. 0.91 - 태양광 설치비’ 장기 저금리 융자지원 - seoul 0\n",
      " 4. 0.90 - 스마트형 공공 쓰레기통, ‘진격의 스마통’ - seoul 0\n",
      " 5. 0.90 - 공공보육시설 확충 - seoul 1\n",
      " 6. 0.88 - 공공청사 태양광발전소 건립 확대 - seoul 2\n",
      " 7. 0.88 - 공공청사 장소대관 활성화 - seoul 2\n",
      " 8. 0.87 - 맞벌이 부부를 위한 역세권 공공보육시설 설치 - seoul 13\n",
      " 9. 0.86 - 공공·작은도서관 지속적 확충 및 운영 개선 - seoul 0\n",
      "10. 0.80 - 공공부문 채용시 전체의 3%는 은퇴자, 노인 고용 의무화 추진 - seoul 16\n",
      "11. 0.79 - 365일 24시간 운영 공공보육시설 시범 설치 - seoul 1\n",
      "12. 0.76 - 공공 노인요양원 30개소 설치 - seoul 0\n",
      "13. 0.76 - 세대융합(화합)형 공공주택 공급 - seoul 0\n",
      "Most similar to  임대주택 등록하면 세금·건보료 감면…2020년 등록 의무화 검토 (임대주택/Noun 등록/Noun 하다/Verb 세금/Noun 건/Noun 보료/Noun 감다/Verb 등록/Noun 의무/Noun)\n",
      "Most similar to 지난해 저소득층 근로소득 감소에…소득 불평등도 악화 : 네이버 뉴스 (지난해/Noun 소득/Noun 층/Noun 근로/Noun 소득/Noun 감소/Noun 소득/Noun 불평등/Noun 악화/Noun)\n",
      " 1. 1.00 - 저소득층 지원 확충 - seoul 3\n",
      " 2. 1.00 - 무상보육을 소득하위 80%까지 확대 추진 - seoul 1\n",
      " 3. 1.00 - 저소득층 자녀 지원프로그램 강화 - seoul 2\n",
      " 4. 1.00 - 저소득층 자녀 수업료 · 등록금 지원 확대 - seoul 1\n",
      " 5. 0.99 - 저소득 학생을 위한 멘토링 사업 - seoul 20\n",
      " 6. 0.99 - 저소득층 국민연금보험료 지원 - seoul 3\n",
      " 7. 0.96 - 저소득층을 위한 다가구 임대주택 공급 - seoul 20\n",
      " 8. 0.94 - 저소득 한부모가족 지원 - seoul 24\n",
      " 9. 0.90 - 저소득 소외계층 의료지원 확대 (노인의치 보철사업비 지원) (65세이상 저소득 어르신 의료지원 확대) - seoul 15\n",
      "10. 0.87 - 주민소득지원 및 생활안정기금 우선지원 - seoul 14\n",
      "11. 0.82 - 저소득층(차상위계층등)의 건강보험료 자기부담금 지원 - seoul 13\n",
      "12. 0.80 - 취약계층 의료서비스 강화로 의료 사각지대 해소 - seoul 14\n",
      "Most similar to 노후자금 털어 집에 투자? 전세금, 집값 용도 퇴직연금 중도인출 급증 : 네이버 뉴스 (노후/Noun 자금/Noun 털다/Verb 집/Noun 투자/Noun 전/Noun 세금/Noun 집값/Noun 용도/Noun 퇴직/Noun 연금/Noun 중도/Noun 추다/Verb 급증/Noun)\n",
      " 1. 0.91 - 사회적 기업지원센터 설립으로 일자리 창출->사회적기업지원 발굴.육성으로 일자리 창출 - seoul 19\n",
      " 2. 0.91 - 노인일자리 창출 및 노인 고용기업 육성 - seoul 19\n",
      " 3. 0.90 - 사회서비스 일자리 창출 - seoul 3\n",
      " 4. 0.90 - 청년실업 해소를 위한 일자리 창출 - seoul 24\n",
      " 5. 0.90 - 지역실정에 맞는 청년일자리 창출 확대 - seoul 1\n",
      " 6. 0.89 - 일자리창출 사회적기업 설립 - seoul 25\n",
      " 7. 0.89 - 일자리 창출을 위한 취업전문 평생교육센터 건립 - seoul 23\n",
      " 8. 0.88 - 맞춤형 여성일자리 10만개 창출 - seoul 0\n",
      " 9. 0.85 - 중소기업종합지원센터 운영 내실화 및 일자리 창출 체계구축 - seoul 19\n",
      "10. 0.80 - 일자리 창출 위원회' 설립 - seoul 16\n",
      "11. 0.79 - 어르신 일자리 창출 - seoul 2\n",
      "12. 0.79 - 1) 어르신 일자리 창출 - seoul 17\n",
      "13. 0.78 - 자전거 출․퇴근 선호환경 조성 - seoul 1\n",
      "14. 0.78 - 어르신 맞춤형 일자리 창출 - seoul 14\n",
      "15. 0.78 - 공공일자리 창출로 일자리 확대 - seoul 12\n",
      "16. 0.75 - 공공서비스 확대 및 사회적 기업 육성·지원을 통한 일자리 창출 - seoul 4\n",
      "Most similar to 대학 등록금 동결 속 외국인 유학생만 '봉' 서울 주요 대학들이 외국인 유학생이 내야 할 등록금을 잇달아 올리려 하는 것으로 드러났다. 내국인 대학생에 대한 ‘등록금 동결’과 ‘입학금 폐지’로 줄어든 수입을 외국인 유학생에게서 더 받아내 만회하겠다는 것이다. (대학/Noun 등록금/Noun 동결/Noun 속/Noun 외국인/Noun 유학생/Noun 봉/Noun 서울/Noun 주요/Noun 대학/Noun 외국인/Noun 유학생/Noun 내야/Noun 하다/Verb 등록금/Noun 잇다/Verb 달/Noun 올리다/Verb 하다/Verb 것/Noun 드러나다/Verb 국/Noun 대학생/Noun 대한/Noun 등록금/Noun 동결/Noun 과/Noun 입학/Noun 금/Noun 폐지/Noun 로/Noun 줄어들다/Verb 수입/Noun 외국인/Noun 유학생/Noun 더/Noun 받다/Verb 만회/Noun 하다/Verb 것/Noun)\n",
      " 1. 0.86 - 제3인생대학 프로그램 운영 - seoul 10\n",
      " 2. 0.86 - 7) 대학 평생교육 활성화 지원 - seoul 17\n",
      " 3. 0.84 - 3) 관내 대학 특례입학 확대 - seoul 17\n",
      " 4. 0.80 - 지역대학(한양대학교) 연계 주민 평생학습도시 조성 - seoul 19\n",
      " 5. 0.80 - 고교-대학간 연계 프로그램 실시 - seoul 2\n",
      " 6. 0.78 - 2) 대학, 대학생 연계 교육지원 사업 확대 - seoul 17\n",
      " 7. 0.77 - 관내 대학내 학교기업설치 지원 -> 대학이 운영하는 기업 지원 - seoul 16\n",
      " 8. 0.76 - 대학 및 예술인 참여 산·관·학 생활문화 인프라망 구축 - seoul 15\n",
      " 9. 0.75 - 평생학습원 설치(관내 대학교) - seoul 14\n"
     ]
    }
   ],
   "source": [
    "# Try some queries that don't match existing documents\n",
    "\n",
    "def match(title):\n",
    "    tags = pos(title)\n",
    "    print(\"Most similar to %s (%s)\" % (title, \" \".join(tags)))\n",
    "    threshold = 0.75\n",
    "    for posi, item in enumerate(find_similar(tags, threshold)):\n",
    "        key = int(item[0])\n",
    "        score = item[1]\n",
    "        print('%2d. %.2f - %s - %s %d' % (posi+1, score, texts[key][0], texts[key][2][0], texts[key][2][1]))\n",
    "\n",
    "match('임대주택')\n",
    "match(' 임대주택 등록하면 세금·건보료 감면…2020년 등록 의무화 검토')\n",
    "match('지난해 저소득층 근로소득 감소에…소득 불평등도 악화 : 네이버 뉴스')\n",
    "match('노후자금 털어 집에 투자? 전세금, 집값 용도 퇴직연금 중도인출 급증 : 네이버 뉴스')\n",
    "\n",
    "text = \"대학 등록금 동결 속 외국인 유학생만 '봉' 서울 주요 대학들이 외국인 유학생이 내야 할 등록금을 잇달아 올리려 하는 것으로 드러났다. 내국인 대학생에 대한 ‘등록금 동결’과 ‘입학금 폐지’로 줄어든 수입을 외국인 유학생에게서 더 받아내 만회하겠다는 것이다.\"\n",
    "match(text)"
   ]
  },
  {
   "cell_type": "code",
   "execution_count": 117,
   "metadata": {
    "collapsed": true
   },
   "outputs": [],
   "source": [
    "corpora.MmCorpus.serialize('lsi.mm', lsi_corpus)"
   ]
  },
  {
   "cell_type": "code",
   "execution_count": 118,
   "metadata": {},
   "outputs": [
    {
     "name": "stdout",
     "output_type": "stream",
     "text": [
      "CPU times: user 21.1 s, sys: 2.88 s, total: 24 s\n",
      "Wall time: 25.2 s\n"
     ]
    }
   ],
   "source": [
    "%%time\n",
    "import numpy as np\n",
    "from sklearn.manifold import TSNE\n",
    "from gensim import matutils\n",
    "\n",
    "lsi_corpus = corpora.MmCorpus('lsi.mm')\n",
    "tsne = TSNE(n_components=2, init='pca', random_state=0, metric='cosine', angle=.99)\n",
    "X = matutils.corpus2dense(lsi_corpus, num_terms=lsi_corpus.num_terms)\n",
    "X_data = np.asarray(X).astype('float64')\n",
    "X_tsne = tsne.fit_transform(X_data.T)"
   ]
  },
  {
   "cell_type": "code",
   "execution_count": 119,
   "metadata": {},
   "outputs": [],
   "source": [
    "threshold = 0.5\n",
    "_idx = np.amax(X, axis=0) > threshold\n",
    "X_ = X[:, _idx]\n",
    "X_tsne_ = X_tsne[_idx, :]"
   ]
  },
  {
   "cell_type": "code",
   "execution_count": 120,
   "metadata": {},
   "outputs": [
    {
     "data": {
      "text/plain": [
       "(306, 2)"
      ]
     },
     "execution_count": 120,
     "metadata": {},
     "output_type": "execute_result"
    }
   ],
   "source": [
    "#X_tsne[_idx, 0].shape\n",
    "X_tsne_.shape"
   ]
  },
  {
   "cell_type": "code",
   "execution_count": 123,
   "metadata": {},
   "outputs": [],
   "source": [
    "import matplotlib\n",
    "matplotlib.rc('font', family='NanumGothic')\n",
    "\n",
    "from matplotlib import pyplot as plt\n",
    "top_topics = np.argmax(X_, axis=0)\n",
    "\n",
    "topics_words = lsi.show_topics(num_words=5, formatted=False)\n",
    "topic_summaries = [' '.join([word[0].split('/')[0] for word in topic]) for topic_no, topic in topics_words]\n",
    "\n",
    "plt.figure(figsize=(15,10))\n",
    "plt.scatter(X_tsne_[:, 0], X_tsne_[:, 1], c=top_topics, cmap=plt.cm.get_cmap(\"jet\", 50))\n",
    "\n",
    "plt.colorbar(ticks=range(50))\n",
    "plt.clim(-0.5, 9.5)\n",
    "\n",
    "# plot topic summaries\n",
    "topic_coord = np.empty((X_.shape[1], 2)) * np.nan\n",
    "for topic_num in top_topics:\n",
    "    if not np.isnan(topic_coord).any():\n",
    "        break\n",
    "    topic_coord[topic_num] = X_tsne_[np.argmax(top_topics==topic_num)]\n",
    "\n",
    "# plot crucial words\n",
    "for i in range(len(topic_summaries)):\n",
    "    if np.isnan(topic_coord[i]).any():\n",
    "        continue\n",
    "    plt.text(topic_coord[i, 0], topic_coord[i, 1], topic_summaries[i])\n",
    "\n",
    "\n",
    "#plt.show()\n",
    "plt.savefig('tsne.png')"
   ]
  },
  {
   "cell_type": "code",
   "execution_count": 124,
   "metadata": {},
   "outputs": [
    {
     "data": {
      "text/plain": [
       "'/Users/paul/Projects/kixlab/xproject/xproj-utils/promise-match/Promises LSI vizualization.html'"
      ]
     },
     "execution_count": 124,
     "metadata": {},
     "output_type": "execute_result"
    }
   ],
   "source": [
    "import numpy as np\n",
    "import bokeh.plotting as bp\n",
    "from bokeh.plotting import output_file, save\n",
    "from bokeh.models import HoverTool\n",
    "from random import shuffle\n",
    "\n",
    "colors = [\"#E495A5\", \"#E3979D\", \"#E19895\", \"#DE9A8E\", \"#DB9C86\", \"#D89F7F\", \"#D3A178\", \"#CEA372\", \"#C9A66D\", \"#C3A869\", \"#BDAB66\", \"#B6AD65\", \"#AFAF64\", \"#A7B166\", \"#9EB368\", \"#96B56C\", \"#8DB771\", \"#83B977\", \"#79BA7E\", \"#6FBB84\", \"#65BC8C\", \"#5ABD93\", \"#50BE9B\", \"#46BEA2\", \"#3FBEAA\", \"#39BEB1\", \"#37BDB8\", \"#3ABCBF\", \"#41BBC5\", \"#4ABACB\", \"#55B8D0\", \"#61B6D5\", \"#6DB4D9\", \"#79B1DC\", \"#85AEDF\", \"#91ACE1\", \"#9CA9E2\", \"#A6A6E2\", \"#B0A3E1\", \"#B9A0E0\", \"#C29DDE\", \"#C99ADB\", \"#D098D7\", \"#D596D3\", \"#DA95CD\", \"#DE94C8\", \"#E093C1\", \"#E393BB\", \"#E493B4\", \"#E494AC\"]\n",
    "shuffle(colors)\n",
    "colormap = np.array(colors)\n",
    "title = 'Promises LSI vizualization'\n",
    "num_example = len(X_)\n",
    "\n",
    "plot = bp.figure(plot_width=1200, plot_height=700,\n",
    "                     title=title,\n",
    "                     tools=\"pan,wheel_zoom,box_zoom,reset,hover,previewsave\",\n",
    "                     x_axis_type=None, y_axis_type=None, min_border=1)\n",
    "\n",
    "plot.scatter(x='x', y='y',\n",
    "                 color='color',\n",
    "                 source=bp.ColumnDataSource({\n",
    "                   \"x\": X_tsne_[:, 0], \"y\": X_tsne_[:, 1],\n",
    "                   \"content\": np.array([text[0] for text in texts])[_idx],\n",
    "                   \"topic_key\": top_topics,\n",
    "                   \"color\": colormap[top_topics]\n",
    "                   }))\n",
    "\n",
    "for i in range(len(topic_summaries)):\n",
    "    if np.isnan(topic_coord[i]).any():\n",
    "        continue\n",
    "    plot.text(topic_coord[i, 0], topic_coord[i, 1], [topic_summaries[i]])\n",
    "\n",
    "    \n",
    "hover = plot.select(dict(type=HoverTool))\n",
    "hover.tooltips = {\"content\": \"@content - topic: @topic_key\"}\n",
    "output_file('{}.html'.format(title))\n",
    "save(plot)\n"
   ]
  },
  {
   "cell_type": "code",
   "execution_count": null,
   "metadata": {
    "collapsed": true
   },
   "outputs": [],
   "source": []
  },
  {
   "cell_type": "code",
   "execution_count": null,
   "metadata": {
    "collapsed": true
   },
   "outputs": [],
   "source": []
  }
 ],
 "metadata": {
  "kernelspec": {
   "display_name": "Python 3",
   "language": "python",
   "name": "python3"
  },
  "language_info": {
   "codemirror_mode": {
    "name": "ipython",
    "version": 3
   },
   "file_extension": ".py",
   "mimetype": "text/x-python",
   "name": "python",
   "nbconvert_exporter": "python",
   "pygments_lexer": "ipython3",
   "version": "3.4.3"
  }
 },
 "nbformat": 4,
 "nbformat_minor": 2
}
