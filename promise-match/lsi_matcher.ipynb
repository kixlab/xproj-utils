{
 "cells": [
  {
   "cell_type": "code",
   "execution_count": 60,
   "metadata": {
    "collapsed": true
   },
   "outputs": [],
   "source": [
    "import logging\n",
    "logging.getLogger().setLevel(logging.WARNING)\n",
    "\n",
    "from konlpy.corpus import kobill, kolaw\n",
    "from konlpy.tag import Twitter, Kkma\n",
    "twitter = Twitter()\n",
    "kkma = Kkma()\n",
    "\n",
    "import string\n",
    "import re\n",
    "remove_punct_map = dict.fromkeys(map(ord, string.punctuation))\n",
    "remove_quotes_map = dict([(ord(x), \" \") for x in \".․,‘’´“”·‧<>「」–-()~…\"]) \n",
    "def clean_title(title):\n",
    "    # Remove punctuation and quotes\n",
    "    title = title.translate(remove_punct_map)\n",
    "    title = title.translate(remove_quotes_map)\n",
    "    # Collapse double spaces\n",
    "    title = re.sub('\\s+', ' ', title)\n",
    "    return title\n",
    "\n",
    "stopwords = \"수 년 등 및 몇 중 네이버 뉴스\".split()\n",
    "#stopwords += \"공급 설치 조성 운영 실행 설립 확대 제공 실시 지원 검토 육성 추진 유치 강화 개선 구축 마련 확충 실시 개선 해소\".split()\n",
    "#stopwords += \"을 것 ㄴ ㄹ 과 로 는 하\".split()\n",
    "stopwords = set(stopwords)\n",
    "\n",
    "pos = lambda d: ['/'.join(p) for p in twitter.pos(d, stem=True, norm=True) if p[0] not in stopwords and p[1] in ('Noun', 'Verb', 'Alpha', 'Adjective')]\n",
    "pos = lambda d: [p for p in kkma.morphs(clean_title(d)) if p not in stopwords]"
   ]
  },
  {
   "cell_type": "code",
   "execution_count": 61,
   "metadata": {},
   "outputs": [
    {
     "data": {
      "text/plain": [
       "[('청각장애', 'Noun'),\n",
       " ('인과', 'Noun'),\n",
       " ('함께', 'Adverb'),\n",
       " ('CCTV', 'Alpha'),\n",
       " ('로', 'Noun'),\n",
       " ('만들다', 'Verb'),\n",
       " ('안전하다', 'Adjective'),\n",
       " ('서울', 'Noun')]"
      ]
     },
     "execution_count": 61,
     "metadata": {},
     "output_type": "execute_result"
    }
   ],
   "source": [
    "twitter.pos('청각장애인과 함께 CCTV로 만드는 안전한 서울', stem=True, norm=True)"
   ]
  },
  {
   "cell_type": "code",
   "execution_count": 63,
   "metadata": {},
   "outputs": [
    {
     "data": {
      "text/plain": [
       "['시민', '들', '께', '서울', '의', '혁신', '점수', '를', '알리', '어', '드리', '어요']"
      ]
     },
     "execution_count": 63,
     "metadata": {},
     "output_type": "execute_result"
    }
   ],
   "source": [
    "pos('시민들께 서울의 혁신점수를 알려드려요')"
   ]
  },
  {
   "cell_type": "code",
   "execution_count": 54,
   "metadata": {},
   "outputs": [
    {
     "name": "stdout",
     "output_type": "stream",
     "text": [
      "CPU times: user 8.52 s, sys: 316 ms, total: 8.84 s\n",
      "Wall time: 4.77 s\n"
     ]
    }
   ],
   "source": [
    "%%time\n",
    "texts_kobill = [pos(kobill.open(i).read()) for i in kobill.fileids()]\n",
    "texts_kolaw = [pos(kolaw.open(i).read()) for i in kolaw.fileids()]"
   ]
  },
  {
   "cell_type": "code",
   "execution_count": 55,
   "metadata": {},
   "outputs": [
    {
     "name": "stdout",
     "output_type": "stream",
     "text": [
      "250\n",
      "CPU times: user 20.4 s, sys: 386 ms, total: 20.8 s\n",
      "Wall time: 26 s\n"
     ]
    }
   ],
   "source": [
    "%%time\n",
    "import json\n",
    "\n",
    "texts = []\n",
    "\n",
    "promise_texts = []\n",
    "for idx in range(250):\n",
    "    promise_texts.append(open('../promisedata/korean/prom%d.txt' % (idx+1)).read())\n",
    "\n",
    "idx = 0\n",
    "for fname in ('jisa_tagged.json', ): # 'mayor_tagged.json',\n",
    "    with open(fname) as data_file:    \n",
    "        data = json.load(data_file)\n",
    "        for voting_district in data:\n",
    "            if voting_district['city'] != 'seoul' or voting_district['district'] > 28:\n",
    "                continue\n",
    "            promises = voting_district['promises']\n",
    "            for p in promises:\n",
    "                text = p['title']\n",
    "                if idx < 250:\n",
    "                    text += \"\\n\" + promise_texts[idx]\n",
    "                texts.append((p['title'], pos(text), (voting_district['city'], voting_district['district'])))\n",
    "                idx += 1\n",
    "\n",
    "\n",
    "texts_promises = [text[1] for text in texts]\n",
    "print(len(texts_promises))\n",
    "\n",
    "with open('test-data/promise-titles.json', 'w') as f:\n",
    "    json.dump([text[0] for text in texts], f)\n",
    "    \n"
   ]
  },
  {
   "cell_type": "code",
   "execution_count": 56,
   "metadata": {},
   "outputs": [],
   "source": [
    "from gensim import corpora, models\n",
    "# Create dictionary\n",
    "corpus = texts_kobill + texts_kolaw + texts_promises\n",
    "#corpus = texts_promises\n",
    "logging.info('Dictionary from %d documents' % len(corpus))\n",
    "dictionary_ko = corpora.Dictionary(corpus)\n",
    "# Filter terms that occur in more than 10% of the documents\n",
    "dictionary_ko.filter_extremes(no_below=0, no_above=0.1)\n",
    "# Save for later use\n",
    "dictionary_ko.save('ko.dict')"
   ]
  },
  {
   "cell_type": "code",
   "execution_count": 58,
   "metadata": {},
   "outputs": [
    {
     "name": "stderr",
     "output_type": "stream",
     "text": [
      "WARNING:gensim.similarities.docsim:scanning corpus to determine the number of features (consider setting `num_features` explicitly)\n"
     ]
    },
    {
     "name": "stdout",
     "output_type": "stream",
     "text": [
      "CPU times: user 1.02 s, sys: 176 ms, total: 1.2 s\n",
      "Wall time: 1.29 s\n"
     ]
    }
   ],
   "source": [
    "%%time\n",
    "from gensim import similarities\n",
    "\n",
    "num_topics = 22\n",
    "\n",
    "# Generate Lsi model for promise text corpus\n",
    "corpus = [dictionary_ko.doc2bow(text) for text in texts_promises]\n",
    "# Train Lsi model\n",
    "lsi = models.LsiModel(corpus, id2word=dictionary_ko, num_topics=num_topics)\n",
    "lsi.save('lsi.model')\n",
    "# Transform corpus to LSI space and index it\n",
    "lsi_corpus = lsi[corpus]\n",
    "index = similarities.MatrixSimilarity(lsi_corpus)\n",
    "index.save('lsi.index')"
   ]
  },
  {
   "cell_type": "code",
   "execution_count": 37,
   "metadata": {},
   "outputs": [
    {
     "name": "stdout",
     "output_type": "stream",
     "text": [
      "Most similar to 동북아 대도시 대기환경협의체 구성 및 대기개선 노하우 공유\n",
      "0.84 - 질 높은 인터넷 강의 개설\n",
      "0.84 - 2) 생태환경중심의 서대문 도시발전계획 수립\n",
      "0.83 - 질 높은 영어교육 실시\n",
      "0.83 - 녹색도시 생활환경기반 구축\n",
      "0.82 - 다중이용시설 실내공기질 개선\n",
      "0.81 - 강동 친환경 도시농업 2020 프로젝트\n",
      "0.81 - 동자동, 용산역, 국제빌딩주변 도시환경정비사업\n",
      "0.81 - 서울-세종 간 고속도로 강동통과 반대 지속 협의\n",
      "0.79 - 신대방역~보라매타운 간 난곡GRT 지속추진\n",
      "0.77 - 2) 충정로권역 업무중심 지역개발 (도시환경정비사업 추진)\n"
     ]
    }
   ],
   "source": [
    "def find_similar(tagged_text, similarity_threshold=None):\n",
    "    # Convert text to bag of words\n",
    "    vec_bow = dictionary_ko.doc2bow(tagged_text)\n",
    "    # Convert the query to LSI space\n",
    "    vec_lsi = lsi[vec_bow]\n",
    "    # Perform a similarity query against the corpus\n",
    "    sims = enumerate(index[vec_lsi])\n",
    "    if similarity_threshold:\n",
    "        sims = filter(lambda item: item[1] >= similarity_threshold, sims)\n",
    "    # Return the similarities sorted by descending score\n",
    "    return sorted(sims, key=lambda item: -item[1])\n",
    "    \n",
    "# Try to match a few existing documents\n",
    "\n",
    "for text in texts[100:101]:\n",
    "    sims = find_similar(text[1], similarity_threshold=0.75)\n",
    "    print(\"Most similar to %s\" % (text[0],))\n",
    "    for key, score in sims[1:]:\n",
    "        key = int(key)\n",
    "        print('%.2f - %s' % (score, texts[key][0]))\n"
   ]
  },
  {
   "cell_type": "code",
   "execution_count": 39,
   "metadata": {},
   "outputs": [
    {
     "name": "stdout",
     "output_type": "stream",
     "text": [
      "Number of matches per document: max 63, min 0, mean 18.32, median 16\n",
      "5 documents didn't match with themself as their best match\n",
      "  but 4 of them matched at pos 1.\n",
      "25 (5%) with 0 matches\n",
      "CPU times: user 2.06 s, sys: 63.2 ms, total: 2.12 s\n",
      "Wall time: 3.23 s\n"
     ]
    }
   ],
   "source": [
    "%%time\n",
    "import numpy as np\n",
    "# Find similarities of all documents with each other and see how many matches higher than x score there are\n",
    "# Used to figure out a threshold that regards enough documents as matched\n",
    "threshold = 0.8\n",
    "counts = []\n",
    "counts_self_no_match = []\n",
    "for idx, text in enumerate(texts[:500]):\n",
    "    similarities = np.array(find_similar(text[1]))\n",
    "    # Remove self-similarity\n",
    "    id_idx = np.where(similarities[:, 0]==idx)[0][0]\n",
    "    similarities = np.delete(similarities, id_idx, axis=0)\n",
    "    # Record when self wasn't the best match (it is usally the 2nd best in these cases)\n",
    "    if id_idx != 0:\n",
    "        counts_self_no_match.append((idx, id_idx))\n",
    "    # Count number of docs with similarity >= threshold\n",
    "    count = np.sum(similarities[:,1]>=threshold)\n",
    "    counts.append(count)\n",
    "\n",
    "counts = np.array(counts)\n",
    "counts_self_no_match = np.array(counts_self_no_match)\n",
    "print('Number of matches per document: max %d, min %d, mean %.2f, median %d' % (np.max(counts), np.min(counts), np.mean(counts), np.median(counts)))\n",
    "print('%d documents didn\\'t match with themself as their best match' % (len(counts_self_no_match)))\n",
    "if len(counts_self_no_match):\n",
    "    print('  but %d of them matched at pos 1.' % (np.sum(counts_self_no_match[:,1]==1)))\n",
    "\n",
    "no_match_count = np.sum(counts==0)\n",
    "print('%d (%d%%) with 0 matches' % (no_match_count, 100*no_match_count/len(counts)))"
   ]
  },
  {
   "cell_type": "code",
   "execution_count": 50,
   "metadata": {},
   "outputs": [
    {
     "name": "stdout",
     "output_type": "stream",
     "text": [
      "Document with highest number of matches:\n",
      "('테마교육공원 4개소 조성', ['테마/Noun', '교육/Noun', '공원/Noun', '개다/Verb', '테마/Noun', '교육/Noun', '공원/Noun', '개다/Verb', '상황/Noun', '이행/Noun', '후/Noun', '계속/Noun', '사업/Noun', '구분/Noun', '임기/Noun', '내/Noun', '계/Noun', '속/Noun', '총/Noun', '사업/Noun', '비/Noun', '백만원/Noun', '집/Noun', '행/Noun', '액/Noun', '백만원/Noun', '최종/Noun', '목표/Noun', '기존/Noun', '공원/Noun', '인프라/Noun', '활용/Noun', '하다/Verb', '미래/Noun', '지향/Noun', '학습/Noun', '체험/Noun', '활동/Noun', '지역/Noun', '특성/Noun', '반영/Noun', '하다/Verb', '대다/Verb', '권역/Noun', '별로/Noun', '동부/Noun', '어린이/Noun', '청소년/Noun', '문화/Noun', '체험/Noun', '교육/Noun', '공원/Noun', '어린이/Noun', '공원/Noun', '서부/Noun', '에너지/Noun', '환경/Noun', '교육/Noun', '공원/Noun', '월드컵/Noun', '공원/Noun', '남부/Noun', '다하다/Verb', '자연/Noun', '하나/Noun', '되다/Verb', '생태/Noun', '문화/Noun', '교육/Noun', '공원/Noun', '서울대/Noun', '공원/Noun', '북부/Noun', '문화/Noun', '예술/Noun', '역사/Noun', '흐르다/Verb', '교육/Noun', '공원/Noun', '북서울꿈의숲/Noun', '공원/Noun', '중부/Noun', '나비/Noun', '곤충/Noun', '테마/Noun', '교육/Noun', '공원/Noun', '서울숲/Noun', '공원/Noun', '계획/Noun', '정책/Noun', '개요/Noun', '어린이/Noun', '청소년/Noun', '문화/Noun', '체험/Noun', '교육/Noun', '공원/Noun', '어린이/Noun', '대공/Noun', '자연/Noun', '문화/Noun', '예술/Noun', '다양하다/Adjective', '분야/Noun', '프로그램/Noun', '매년/Noun', '개/Noun', '개/Noun', '서울/Noun', '상상나라/Noun', '개/Noun', '체험/Noun', '영역/Noun', '정기/Noun', '개/Noun', '유형/Noun', '일일/Noun', '개/Noun', '유형/Noun', '프로그램/Noun', '숲속/Noun', '음악회/Noun', '야외/Noun', '공연장/Noun', '축제/Noun', '안전/Noun', '체험/Noun', '프로그램/Noun', '개발/Noun', '어린이회관/Noun', '과학관/Noun', '창의/Noun', '융합/Noun', '교실/Noun', '활용/Noun', '하다/Verb', '자연과학/Noun', '교육/Noun', '체험/Noun', '사업/Noun', '기간/Noun', '월/Noun', '월/Noun', '에너지/Noun', '환경/Noun', '교육/Noun', '공원/Noun', '월드컵/Noun', '공원/Noun', '에코/Noun', '투어/Noun', '에너지/Noun', '주제/Noun', '특/Noun', '프로그램/Noun', '신규/Noun', '개발/Noun', '보급/Noun', '환경/Noun', '생태/Noun', '교육/Noun', '체험/Noun', '현장/Noun', '실습/Noun', '프로그램/Noun', '개발/Noun', '사업/Noun', '기간/Noun', '월/Noun', '월/Noun', '생애/Noun', '주기/Noun', '별/Noun', '맞춤/Noun', '교육/Noun', '공원/Noun', '서울대/Noun', '공원/Noun', '동물/Noun', '식물/Noun', '곤충/Noun', '교실/Noun', '다양하다/Adjective', '생태/Noun', '교육/Noun', '프로그램/Noun', '치유/Noun', '숲/Noun', '시민/Noun', '참여/Noun', '축제/Noun', '문화/Noun', '프로그램/Noun', '연령/Noun', '별/Noun', '맞춤/Noun', '모두/Noun', '열리다/Verb', '소외/Noun', '계층/Noun', '다문화/Noun', '프로그램/Noun', '다양/Noun', '비다/Verb', '재/Noun', '계획/Noun', '계획/Noun', '시행/Noun', '사업/Noun', '기간/Noun', '월/Noun', '월/Noun', '문화/Noun', '예술/Noun', '역사/Noun', '흐르다/Verb', '교육/Noun', '공원/Noun', '북서울꿈의숲/Noun', '공원/Noun', '공원/Noun', '문화/Noun', '시설/Noun', '이용/Noun', '하다/Verb', '공연/Noun', '전시/Noun', '프로그램/Noun', '활성화/Noun', '콘서트홀/Noun', '퍼포먼스/Noun', '홀/Noun', '상상/Noun', '톡톡/Noun', '미술관/Noun', '문화/Noun', '시설/Noun', '활용/Noun', '하다/Verb', '누구/Noun', '예술/Noun', '정취/Noun', '느끼다/Verb', '배우다/Verb', '있다/Adjective', '다양하다/Adjective', '프로그램/Noun', '아동/Noun', '청소년/Noun', '대상/Noun', '하다/Verb', '미술/Noun', '체험/Noun', '예술/Noun', '교육/Noun', '프로그램/Noun', '가족/Noun', '참여/Noun', '하다/Verb', '역사/Noun', '자연/Noun', '과학/Noun', '교육/Noun', '프로그램/Noun', '공원/Noun', '소재/Noun', '창령위/Noun', '궁재/Noun', '사/Noun', '서울시/Noun', '등록/Noun', '문화재/Noun', '제/Noun', '호/Noun', '와/Noun', '관련/Noun', '되다/Verb', '고려/Noun', '조선/Noun', '시대/Noun', '이야기/Noun', '스토리/Noun', '있다/Adjective', '역사/Noun', '자연/Noun', '과학/Noun', '교육/Noun', '프로그램/Noun', '사업/Noun', '기간/Noun', '월/Noun', '월/Noun', '나비/Noun', '곤충/Noun', '테마/Noun', '교육/Noun', '공원/Noun', '서울숲/Noun', '공원/Noun', '도심/Noun', '보기/Noun', '어려워지다/Verb', '나비/Noun', '곤충/Noun', '체험/Noun', '하다/Verb', '있다/Adjective', '체험/Noun', '공원/Noun', '나비/Noun', '정원/Noun', '곤충/Noun', '식물원/Noun', '에서/Noun', '곤충/Noun', '자연/Noun', '체험/Noun', '서울시/Noun', '지정/Noun', '보호/Noun', '종인/Noun', '산/Noun', '제비/Noun', '날리다/Verb', '나비/Noun', '페스티벌/Noun', '시민단체/Noun', '서울/Noun', '그린/Noun', '트러스트/Noun', '와/Noun', '협업/Noun', '통한/Noun', '문화/Noun', '예술/Noun', '교육/Noun', '봉사/Noun', '가드닝/Noun', '프로그램/Noun', '생태/Noun', '환경/Noun', '프로그램/Noun', '종/Noun', '탐방/Noun', '프로그램/Noun', '종/Noun', '자원봉사/Noun', '프로그램/Noun', '통해/Noun', '시민/Noun', '공유/Noun', '하다/Verb', '공원/Noun', '사업/Noun', '기간/Noun', '월/Noun', '월/Noun', '연/Noun', '차별/Noun', '계획/Noun', '단위/Noun', '사업/Noun', '월/Noun', '임기/Noun', '후/Noun', '분기/Noun', '분기/Noun', '분기/Noun', '분기/Noun', '어린이/Noun', '공원/Noun', '상상나라/Noun', '체험/Noun', '교육/Noun', '월드컵/Noun', '공원/Noun', '에너지/Noun', '드림/Noun', '센터/Noun', '방문/Noun', '종/Noun', '프로그램/Noun', '개/Noun', '축제/Noun', '종/Noun', '프로그램/Noun', '종/Noun', '프로그램/Noun', '개/Noun', '축제/Noun', '종/Noun', '프로그램/Noun', '종/Noun', '프로그램/Noun', '개/Noun', '축제/Noun', '종/Noun', '프로그램/Noun', '개/Noun', '축제/Noun', '종/Noun', '프로그램/Noun', '개/Noun', '축제/Noun', '활성화/Noun', '명/Noun', '명/Noun', '명/Noun', '명/Noun', '명/Noun', '명/Noun', '명/Noun', '명/Noun', '서울대/Noun', '공원/Noun', '체험학습/Noun', '공원/Noun', '치유/Noun', '숲/Noun', '조/Noun', '성/Noun', '개/Noun', '프로그램/Noun', '개발/Noun', '개/Noun', '프로그램/Noun', '개발/Noun', '개/Noun', '프로그램/Noun', '개발/Noun', '개/Noun', '프로그램/Noun', '개발/Noun', '프로그램/Noun', '개발/Noun', '프로그램/Noun', '개발/Noun', '프로그램/Noun', '개발/Noun', '북서울꿈의숲/Noun', '공원/Noun', '방문객/Noun', '명/Noun', '명/Noun', '명/Noun', '명/Noun', '명/Noun', '명/Noun', '명/Noun', '명/Noun', '서울숲/Noun', '공원/Noun', '방문객/Noun', '비/Noun', '전/Noun', '실/Noun', '행/Noun', '계획/Noun', '수립/Noun', '명/Noun', '명/Noun', '명/Noun', '명/Noun', '명/Noun', '명/Noun', '명/Noun', '분기/Noun', '별/Noun', '세부/Noun', '계획/Noun', '단위/Noun', '사업/Noun', '분기/Noun', '분기/Noun', '분기/Noun', '분기/Noun', '어린이/Noun', '공원/Noun', '종/Noun', '개/Noun', '축제/Noun', '종/Noun', '개/Noun', '축제/Noun', '종/Noun', '개/Noun', '축제/Noun', '종/Noun', '개/Noun', '축제/Noun', '월드컵/Noun', '공원/Noun', '명/Noun', '명/Noun', '명/Noun', '명/Noun', '서울대/Noun', '공원/Noun', '프로그램/Noun', '개발/Noun', '프로그램/Noun', '개발/Noun', '프로그램/Noun', '개발/Noun', '프로그램/Noun', '개발/Noun', '서울/Noun', '꿈/Noun', '숲/Noun', '공원/Noun', '명/Noun', '명/Noun', '명/Noun', '명/Noun', '서울숲/Noun', '공원/Noun', '명/Noun', '명/Noun', '명/Noun', '명/Noun', '연/Noun', '차별/Noun', '투자/Noun', '수요/Noun', '계획/Noun', '단위/Noun', '사업/Noun', '임기/Noun', '내/Noun', '단위/Noun', '백만원/Noun', '임기/Noun', '후/Noun', '구/Noun', '분/Noun', '계/Noun', '월/Noun', '계/Noun', '어린이/Noun', '공원/Noun', '시비/Noun', '월드컵/Noun', '공원/Noun', '시비/Noun', '서울대/Noun', '공원/Noun', '시비/Noun', '서울/Noun', '꿈/Noun', '숲/Noun', '공원/Noun', '시비/Noun', '서울숲/Noun', '공원/Noun', '시비/Noun', '연도/Noun', '별/Noun', '집행/Noun', '액/Noun', '단위/Noun', '사업/Noun', '임기/Noun', '내/Noun', '단위/Noun', '백만원/Noun', '임기/Noun', '후/Noun', '구/Noun', '분/Noun', '계/Noun', '월/Noun', '계/Noun', '어린이/Noun', '공원/Noun', '시비/Noun', '월드컵/Noun', '공원/Noun', '시비/Noun', '서울대/Noun', '공원/Noun', '시비/Noun', '서울/Noun', '꿈/Noun', '숲/Noun', '공원/Noun', '시비/Noun', '서울숲/Noun', '공원/Noun', '시비/Noun', '시민/Noun', '참여/Noun', '실적/Noun', '단/Noun', '위/Noun', '사/Noun', '업/Noun', '설명/Noun', '회/Noun', '공청회/Noun', '만족도/Noun', '조사/Noun', '어린이/Noun', '공원/Noun', '월드컵/Noun', '공원/Noun', '서울대/Noun', '공원/Noun', '북서울꿈의숲/Noun', '공원/Noun', '서울숲/Noun', '공원/Noun', '민간/Noun', '전문가/Noun', '언론/Noun', '방송/Noun', '자문/Noun', '보도/Noun', '단위/Noun', '횟수/Noun', '보고서/Noun', '발간/Noun', '건/Noun', '전시/Noun', '교육/Noun', '자료/Noun', '집/Noun', '어린이/Noun', '공원/Noun', '서울/Noun', '상상나라/Noun', '이용/Noun', '객/Noun', '만족도/Noun', '설문조사/Noun', '관람/Noun', '만족도/Noun', '교육/Noun', '프로그램/Noun', '만족도/Noun', '평균/Noun', '서울/Noun', '상상나라/Noun', '관람객/Noun', '총/Noun', '명/Noun', '직접/Noun', '서면/Noun', '작성/Noun', '제출/Noun', '관람/Noun', '만족도/Noun', '교육/Noun', '프로그램/Noun', '만족도/Noun', '평균/Noun', '서울/Noun', '상상나라/Noun', '관람객/Noun', '총/Noun', '명/Noun', '직접/Noun', '서면/Noun', '작성/Noun', '제출/Noun', '종합/Noun', '만족도/Noun', '점/Noun', '교육/Noun', '프로그램/Noun', '만족도/Noun', '점/Noun', '서울/Noun', '상상나라/Noun', '관람객/Noun', '총/Noun', '명/Noun', '직접/Noun', '서면/Noun', '작성/Noun', '제출/Noun', '민간/Noun', '전문가/Noun', '자문/Noun', '영유/Noun', '놀이/Noun', '학교/Noun', '교육과정/Noun', '계획/Noun', '안/Noun', '내용/Noun', '질적/Noun', '유아/Noun', '대상/Noun', '단체/Noun', '심화/Noun', '프로그램/Noun', '질적/Noun', '상반기/Noun', '주말/Noun', '일일/Noun', '교육/Noun', '프로그램/Noun', '종/Noun', '의/Noun', '질적/Noun', '하반기/Noun', '월드컵/Noun', '공원/Noun', '서울/Noun', '에너지/Noun', '드림/Noun', '센터/Noun', '이용/Noun', '객/Noun', '만족도/Noun', '설문조사/Noun', '항/Noun', '목별/Noun', '만족도/Noun', '센터/Noun', '관람객/Noun', '총/Noun', '명/Noun', '직접/Noun', '서면/Noun', '작성/Noun', '제출/Noun', '항/Noun', '목별/Noun', '만족도/Noun', '센터/Noun', '관람객/Noun', '총/Noun', '명/Noun', '직접/Noun', '서면/Noun', '작성/Noun', '제출/Noun', '항/Noun', '목별/Noun', '만족도/Noun', '센터/Noun', '관람객/Noun', '총/Noun', '명/Noun', '직접/Noun', '서면/Noun', '작성/Noun', '제출/Noun', '월드컵/Noun', '공원/Noun', '서울/Noun', '에너지/Noun', '드림/Noun', '센터/Noun', '민간/Noun', '전문가/Noun', '자문/Noun', '센터/Noun', '실제/Noun', '모델/Noun', '역할/Noun', 'DB/Alpha', '방법론/Noun', '에너지/Noun', '모니터링/Noun', '차/Noun', '차/Noun', '서울대/Noun', '공원/Noun', '동물/Noun', '교실/Noun', '이용/Noun', '객/Noun', '만족도/Noun', '설문조사/Noun', '연중/Noun', '지속/Noun', '대다/Verb', '상/Noun', '동물/Noun', '교실/Noun', '프로그램/Noun', '참가자/Noun', '목/Noun', '적/Noun', '동물/Noun', '교실/Noun', '프로그램/Noun', '내용/Noun', '질적/Noun', '시민/Noun', '만족도/Noun', '향상/Noun', '만족도/Noun', '전년/Noun', '대비/Noun', '상승/Noun', '근/Noun', '거/Noun', '동물/Noun', '교실/Noun', '프로그램/Noun', '결과/Noun', '보고/Noun', '동물/Noun', '기획/Noun', '실적/Noun', '단위/Noun', '사업/Noun', '분기/Noun', '분기/Noun', '분기/Noun', '분기/Noun', '분기/Noun', '분기/Noun', '분기/Noun', '분기/Noun', '어린이/Noun', '공원/Noun', '상상나라/Noun', '체험/Noun', '교육/Noun', '종/Noun', '종/Noun', '프로그램/Noun', '프로그램/Noun', '종/Noun', '프로그램/Noun', '개/Noun', '축제/Noun', '종/Noun', '프로그램/Noun', '종/Noun', '종/Noun', '종/Noun', '종/Noun', '종/Noun', '프로그램/Noun', '프로그램/Noun', '프로그램/Noun', '프로그램/Noun', '프로그램/Noun', '개/Noun', '축제/Noun', '개/Noun', '춪/Noun', '개/Noun', '축제/Noun', '개/Noun', '축제/Noun', '개/Noun', '축제/Noun', '월드컵/Noun', '공원/Noun', '에너지/Noun', '드림/Noun', '센터/Noun', '방문/Noun', '서울대/Noun', '공원/Noun', '생태/Noun', '문화/Noun', '교육/Noun', '공원/Noun', '북서울꿈의숲/Noun', '공원/Noun', '방문객/Noun', '명/Noun', '명/Noun', '명/Noun', '명/Noun', '명/Noun', '명/Noun', '명/Noun', '명/Noun', '명/Noun', '치유/Noun', '숲/Noun', '개/Noun', '프로그램/Noun', '개발/Noun', '운/Noun', '영/Noun', '개/Noun', '프로그램/Noun', '개발/Noun', '개/Noun', '프로그램/Noun', '개발/Noun', '개/Noun', '프로그램/Noun', '개발/Noun', '개/Noun', '프로그램/Noun', '개발/Noun', '개/Noun', '프로그램/Noun', '개발/Noun', '개/Noun', '프로그램/Noun', '개발/Noun', '개/Noun', '프로그램/Noun', '개발/Noun', '명/Noun', '명/Noun', '명/Noun', '명/Noun', '명/Noun', '명/Noun', '명/Noun', '명/Noun', '명/Noun', '서울숲/Noun', '공원/Noun', '방문객/Noun', '비다/Verb', '계획/Noun', '수립/Noun', '명/Noun', '명/Noun', '명/Noun', '명/Noun', '명/Noun', '명/Noun', '명/Noun', '명/Noun', '향후/Noun', '계획/Noun', '분기/Noun', '별/Noun', '세부/Noun', '계획/Noun', '단위/Noun', '사업/Noun', '어린이/Noun', '공원/Noun', '분기/Noun', '종/Noun', '분기/Noun', '종/Noun', '분기/Noun', '종/Noun', '분기/Noun', '종/Noun', '개/Noun', '축제/Noun', '개/Noun', '축제/Noun', '개/Noun', '축제/Noun', '개/Noun', '축제/Noun', '월드컵/Noun', '공원/Noun', '명/Noun', '명/Noun', '명/Noun', '명/Noun', '서울대/Noun', '공원/Noun', '개/Noun', '프로그램/Noun', '개발/Noun', '개/Noun', '프로그램/Noun', '개발/Noun', '개/Noun', '프로그램/Noun', '개발/Noun', '북서울꿈의숲/Noun', '공원/Noun', '명/Noun', '명/Noun', '명/Noun', '명/Noun', '서울숲/Noun', '공원/Noun', '명/Noun', '명/Noun', '명/Noun', '명/Noun', '서울대/Noun', '공원/Noun', '분기/Noun', '조류독감/Noun', '인/Noun', '하다/Verb', '동물원/Noun', '폐쇄/Noun', '조치/Noun', '프로그램/Noun', '잠정/Noun', '중단/Noun', '반영/Noun', '어린이/Noun', '공원/Noun', '교육/Noun', '프로그램/Noun', '지속/Noun', '정기/Noun', '프로그램/Noun', '개/Noun', '프로그램/Noun', '유형/Noun', '시기/Noun', '별로/Noun', '주제/Noun', '변경/Noun', '영유/Noun', '놀이/Noun', '학교/Noun', '영유/Noun', '요리/Noun', '학교/Noun', '어린이/Noun', '요리/Noun', '학교/Noun', '상상/Noun', '예술/Noun', '학교/Noun', '열리다/Verb', '연극/Noun', '학교/Noun', '일일/Noun', '프로그램/Noun', '개/Noun', '프로그램/Noun', '유형/Noun', '격월/Noun', '단위/Noun', '변경/Noun', '이야기/Noun', '전시/Noun', '체험학습/Noun', '오감/Noun', '요리/Noun', '가족/Noun', '요리/Noun', '감성/Noun', '예술/Noun', '표현/Noun', '창의/Noun', '과학/Noun', '초등/Noun', '단체/Noun', '프로그램/Noun', '월드컵/Noun', '공원/Noun', '방학/Noun', '특별/Noun', '프로그램/Noun', '외부/Noun', '기관/Noun', '공동/Noun', '프로그램/Noun', '지속/Noun', '방학/Noun', '특별/Noun', '프로그램/Noun', '개/Noun', '서울/Noun', '에너지/Noun', '드림/Noun', '센터/Noun', '지구/Noun', '살리다/Verb', '적정기술/Noun', '뚝딱/Noun', '학교/Noun', '청소년/Noun', '건축/Noun', '캠프/Noun', '여름방학/Noun', '지구/Noun', '지키다/Verb', '지구/Noun', '어벤저스/Noun', '겨울방학/Noun', '그림자극/Noun', '동물/Noun', '우리/Noun', '지키다/Verb', '겨울방학/Noun', '외부/Noun', '기관/Noun', '공동/Noun', '프로그램/Noun', '개/Noun', '자유/Noun', '학기/Noun', '제/Noun', '에너지/Noun', '투모로우/Noun', '한국/Noun', '에너지/Noun', '공단/Noun', '신다/Verb', '에코/Noun', '투어/Noun', '서부/Noun', '공원/Noun', '녹지/Noun', '사업/Noun', '소/Noun', '에너지/Noun', '아카데미/Noun', '한국/Noun', '에너지/Noun', '기술평가원/Noun', '에너지/Noun', '나눔/Noun', '교실/Noun', '밀알/Noun', '복지/Noun', '재단/Noun', '서울대/Noun', '공원/Noun', '생태/Noun', '문화/Noun', '교육/Noun', '프로그램/Noun', '지속/Noun', '동물/Noun', '교실/Noun', '진로/Noun', '교육/Noun', '동물/Noun', '해설/Noun', '환경/Noun', '캠페인/Noun', '예정/Noun', '회/Noun', '명/Noun', '식물/Noun', '교실/Noun', '치유/Noun', '숲/Noun', '태교/Noun', '활/Noun', '숲길/Noun', '목공/Noun', '체험/Noun', '회/Noun', '명/Noun', '문화/Noun', '행사/Noun', '벚꽃/Noun', '단풍/Noun', '환경/Noun', '생태/Noun', '문화/Noun', '주제/Noun', '행사/Noun', '기획/Noun', '회/Noun', '명/Noun', '북서울꿈의숲/Noun', '공원/Noun', '자연/Noun', '생태/Noun', '역사/Noun', '문화/Noun', '교육/Noun', '프로그램/Noun', '지속/Noun', '북/Noun', '서울/Noun', '꿈/Noun', '숲/Noun', '개/Noun', '프로그램/Noun', '회/Noun', '명/Noun', '꿈/Noun', '숲/Noun', '에코/Noun', '탐험대/Noun', '꿈/Noun', '숲/Noun', '유아/Noun', '활동/Noun', '선비/Noun', '체험/Noun', '꿈/Noun', '숲/Noun', '런닝맨/Noun', '서울/Noun', '창포/Noun', '개/Noun', '프로그램/Noun', '회/Noun', '명/Noun', '창포/Noun', '유아/Noun', '숲/Noun', '체험/Noun', '활동/Noun', '자연/Noun', '관찰/Noun', '창작/Noun', '교실/Noun', '가족/Noun', '놀다/Verb', '기간/Noun', '월/Noun', '월/Noun', '서울숲/Noun', '공원/Noun', '곤충/Noun', '나비/Noun', '교육/Noun', '프로그램/Noun', '지속/Noun', '곤충/Noun', '아카데미/Noun', '세계/Noun', '나비/Noun', '월/Noun', '딱정벌레/Noun', '생태/Noun', '교육/Noun', '월/Noun', '풀속/Noun', '곤충/Noun', '이야기/Noun', '월/Noun', '무섭다/Adjective', '곤충/Noun', '이야기/Noun', '월/Noun', '곤충/Noun', '겨울나기/Noun', '월/Noun', '총괄/Noun', '부서/Noun', '교육/Noun', '정책/Noun', '담당/Noun', '관/Noun', '배/Noun', '교육/Noun', '정책/Noun', '팀/Noun', '정덕/Noun', '영/Noun', '담당/Noun', '이상연/Noun', '협조/Noun', '부서/Noun', '어린이/Noun', '공원/Noun', '시설/Noun', '관리/Noun', '공단/Noun', '어린이/Noun', '대공/Noun', '원장/Noun', '이강/Noun', '오/Noun', '총괄/Noun', '오석/Noun', '담당/Noun', '정원영/Noun', '보육/Noun', '담당/Noun', '관/Noun', '배/Noun', '현숙/Noun', '보육/Noun', '팀/Noun', '윤병수/Noun', '담당/Noun', '이봉/Noun', '현/Noun', '월드컵/Noun', '공원/Noun', '에너지/Noun', '시민/Noun', '협력/Noun', '과장/Noun', '정희정/Noun', '시민/Noun', '참여/Noun', '기획/Noun', '팀/Noun', '권선/Noun', '담당/Noun', '김규동/Noun', '서울대/Noun', '공원/Noun', '전략기획/Noun', '실장/Noun', '윤/Noun', '대진/Noun', '홍보/Noun', '마케팅/Noun', '팀/Noun', '임미경/Noun', '담당/Noun', '임명/Noun', '경/Noun', '북서울꿈의숲/Noun', '공원/Noun', '관리/Noun', '사무소/Noun', '오대근/Noun', '팀/Noun', '박철웅/Noun', '담당/Noun', '이문/Noun', '봉/Noun', '서울숲/Noun', '공원/Noun', '공원/Noun', '녹지/Noun', '정책/Noun', '최윤종/Noun', '공원/Noun', '협력/Noun', '팀/Noun', '양성만/Noun', '담당/Noun', '김동완/Noun'], ('seoul', 0))\n"
     ]
    }
   ],
   "source": [
    "print(\"Document with highest number of matches:\")\n",
    "print(texts[np.argmax(counts)])"
   ]
  },
  {
   "cell_type": "code",
   "execution_count": 47,
   "metadata": {},
   "outputs": [
    {
     "name": "stdout",
     "output_type": "stream",
     "text": [
      "Unmatched documents:\n",
      "개포모바일 융합클러스터 조성사업 추진 ['개포/Noun', '모바일/Noun', '융합/Noun', '클러스터/Noun', '사업/Noun']\n",
      "시장 직속 일자리 위원회 신설 ['시장/Noun', '직속/Noun', '일자리/Noun', '위원회/Noun', '신설/Noun']\n",
      "한양도성 세계유산 등재 ['한양도성/Noun', '세계/Noun', '유산/Noun', '등재/Noun']\n",
      "잠자리, 먹거리, 일거리가 한곳에서 해결되도록 지원 ['잠자리/Noun', '먹거리/Noun', '일거리/Noun', '곳/Noun', '해결/Noun', '되다/Verb']\n",
      "불공정피해 상담센터 기능 확대 ['불공정/Noun', '피해/Noun', '상담/Noun', '센터/Noun', '기능/Noun']\n",
      "서울시네마테크’ 건립 ['서울/Noun', '시네마테크/Noun', '건립/Noun']\n",
      "지하철역 엘리베이터 설치 지속추진, 공공시설 장애인 동선 확보 ['지하철역/Noun', '엘리베이터/Noun', '지속/Noun', '공공시설/Noun', '장애인/Noun', '동선/Noun', '확보/Noun']\n",
      "수도권연계 광역도시철도 신설 및 제3기 도시철도 조기 추진 ['수도/Noun', '권연/Noun', '광역/Noun', '도시철도/Noun', '신설/Noun', '제/Noun', '기/Noun', '도시철도/Noun', '조기/Noun']\n",
      "서울 선데이파크에서 놀면서 살빼요 ['서울/Noun', '선데이/Noun', '파크/Noun', '놀다/Verb', '살빼다/Adjective']\n",
      "사고위치 번호판 운영 ['사고/Noun', '위치/Noun', '번호판/Noun']\n",
      "글로벌 의료관광 육성 ['글로벌/Noun', '의료관광/Noun']\n",
      "금융기관 본점 등 건실한 기업 유치 ['금융기관/Noun', '본점/Noun', '건실/Noun', '기업/Noun']\n",
      "자원봉사와 노인일자리 등 생산적인 노후생활 활성화 ['자원봉사/Noun', '노인/Noun', '일자리/Noun', '생산/Noun', '노후/Noun', '생활/Noun', '활성화/Noun']\n",
      "공직사회 무사안일 · 복지부동 추방 ['공직/Noun', '사회/Noun', '무사/Noun', '안일/Noun', '복지/Noun', '부동/Noun', '추방/Noun']\n",
      "부정, 부패 직원 일벌백계 및 신상필벌 확행 ['부정/Noun', '부패/Noun', '직원/Noun', '일벌/Noun', '계/Noun', '신상/Noun', '필벌/Noun', '확행/Noun']\n",
      "테마형 도서관 신설 및 운영 내실화 ['테마/Noun', '도서관/Noun', '신설/Noun', '실화/Noun']\n",
      "구암서원 건립 추진 ['구암서원/Noun', '건립/Noun']\n",
      "암사역사생태공원 조성 ['암사역/Noun', '사생/Noun', '태공/Noun']\n",
      "리틀야구장 조성 ['리틀/Noun', '야구장/Noun']\n",
      "CI 리뉴얼 ['CI/Alpha', '리뉴얼/Noun']\n",
      "강동그린웨이 완성 ['강동/Noun', '린웨이/Noun', '완성/Noun']\n",
      "암사대교 건립 ['암사대교/Noun', '건립/Noun']\n",
      "서울-세종 간 고속도로 강동통과 반대 지속 협의 ['서울/Noun', '세종/Noun', '간/Noun', '고속도로/Noun', '강동/Noun', '통과/Noun', '반대/Noun', '지속/Noun', '협의/Noun']\n",
      "노인복지시설 건립 ['노인/Noun', '복지/Noun', '시설/Noun', '건립/Noun']\n",
      "질 높은 인터넷 강의 개설 ['질/Noun', '높다/Adjective', '인터넷/Noun', '강의/Noun', '개설/Noun']\n",
      "학교 교육지원비 확대 ['학교/Noun', '교육/Noun', '비/Noun']\n",
      "미아삼거리를 동북부의 자족거점으로 육성 ['미아/Noun', '삼거리/Noun', '동북/Noun', '부의/Noun', '자족/Noun', '거점/Noun']\n",
      "평생교육프로그램 강화 ['평생교육/Noun', '프로그램/Noun']\n",
      "강서희망나눔복지재단 창립 ['강서희/Noun', '망/Noun', '나눔/Noun', '복지/Noun', '재단/Noun', '창립/Noun']\n",
      "방화로 개통 ['방화/Noun', '개통/Noun']\n",
      "초등학개 농·산촌 유학 지원 ['초등/Noun', '학개/Noun', '농/Noun', '산촌/Noun', '유학/Noun']\n"
     ]
    }
   ],
   "source": [
    "print(\"Unmatched documents:\")\n",
    "for idx in np.where(counts==0)[0]:\n",
    "    print(texts[idx][0], texts[idx][1])"
   ]
  },
  {
   "cell_type": "code",
   "execution_count": 27,
   "metadata": {},
   "outputs": [
    {
     "name": "stdout",
     "output_type": "stream",
     "text": [
      "Most similar to 임대주택 (임대 주택)\n",
      "Most similar to  임대주택 등록하면 세금·건보료 감면…2020년 등록 의무화 검토 (임대 주택 등록 하면 세금 · 건 보료 감면 … 2020 등록 의무화)\n",
      " 1. 0.99 - 민간임대주택 지원을 위한 국민주택기금 및 이자지원 확대 - seoul 0\n",
      " 2. 0.99 - 국공립어린이집 1,000개소 확충 - seoul 0\n",
      " 3. 0.98 - 시민 모니터링요원 및 전담조직 신설 - seoul 0\n",
      " 4. 0.97 - 안심주택 8만호 공급(2018년) - seoul 0\n",
      " 5. 0.96 - 함께나눠쓰는공구,서울시공구은행 - seoul 0\n",
      " 6. 0.94 - 불공정피해 상담센터 기능 확대 - seoul 0\n",
      " 7. 0.93 - 대학가 주변 도전숙 조성 - seoul 0\n",
      " 8. 0.93 - 관리형 및 공공토지임대형 주택협동조합 육성 - seoul 0\n",
      " 9. 0.92 - 세대융합(화합)형 공공주택 공급 - seoul 0\n",
      "10. 0.87 - 개포모바일 융합클러스터 조성사업 추진 - seoul 0\n",
      "11. 0.85 - 저렴 소형주택 집중공급을 위한 도시계획 지원강화 - seoul 0\n",
      "12. 0.85 - 전용면적 30~60m² 소형주택 20만호 공급 지원 - seoul 0\n",
      "Most similar to 지난해 저소득층 근로소득 감소에…소득 불평등도 악화 : 네이버 뉴스 (지난해 저소득 층 근로 소득 감소 에 … 소득 불평등 도 악화 :)\n",
      "Most similar to 노후자금 털어 집에 투자? 전세금, 집값 용도 퇴직연금 중도인출 급증 : 네이버 뉴스 (노후 자금 털 어 집 에 투자 ? 전세금 , 집값 용도 퇴직 연금 중도 인출 급증 :)\n",
      " 1. 0.88 - 자영업 지원센터’ 설치 - seoul 0\n",
      " 2. 0.88 - 우리 동네 거리에 과일이 넘쳐요 - seoul 0\n",
      " 3. 0.86 - 저학년 초등학생 통학거리 안전보장 - seoul 0\n",
      " 4. 0.86 - 우리 아이 돌보미, 서울시가 찾아드려요 - seoul 0\n",
      " 5. 0.86 - 주택임대차 표준계약서 의무사용 법제화 건의 - seoul 0\n",
      " 6. 0.85 - 한양도성 세계유산 등재 - seoul 0\n",
      " 7. 0.84 - 꼬마 건축가, 서울시로 모여라! - seoul 0\n",
      " 8. 0.83 - 보행환경 점수제 - seoul 0\n",
      " 9. 0.79 - ‘방범우수 건물’ 서울시가 인증해 주었어요! - seoul 0\n",
      "10. 0.79 - 도시안전예산 확대 및 통합관리 - seoul 0\n",
      "Most similar to 대학 등록금 동결 속 외국인 유학생만 '봉' 서울 주요 대학들이 외국인 유학생이 내야 할 등록금을 잇달아 올리려 하는 것으로 드러났다. 내국인 대학생에 대한 ‘등록금 동결’과 ‘입학금 폐지’로 줄어든 수입을 외국인 유학생에게서 더 받아내 만회하겠다는 것이다. (대학 등록금 동결 속 외국인 유학생 만 ' 봉 ' 서울 주요 대학 들 이 외국인 유학생 이 내 아야 하 등록금 잇달 아 올리 려 하 으로 드러나 었 다 . 내국 이 대학생 에 대하 ‘ 등록금 동결 ’ ‘ 입학금 폐지 ’ 줄어들 수입 외국인 유학생 에게서 더 받 아 내 만회 하 겠 다는 이 다 .)\n",
      " 1. 0.91 - 녹색기업 지원을 통한 좋은 에너지 일터 조성 - seoul 0\n",
      " 2. 0.91 - 시민참여형 소규모 햇빛발전소 확대 - seoul 0\n",
      " 3. 0.91 - 전월세 단기자금 규모 확대 - seoul 0\n",
      " 4. 0.91 - 어린이 안전, 노래와 게임으로 재미있게 배워요! - seoul 0\n",
      " 5. 0.91 - 태양광 설치비’ 장기 저금리 융자지원 - seoul 0\n",
      " 6. 0.87 - 도로를 시민들의 문화공간으로 돌려드려요 - seoul 0\n",
      " 7. 0.86 - 주민 희망마을’ 추진 - seoul 0\n",
      " 8. 0.82 - 길거리 재활용 전문미화원 - seoul 0\n",
      " 9. 0.79 - 응급상황별 대피요령 가이드라인 발간 - seoul 0\n",
      "10. 0.78 - 50+ 경험과 노하우를 배우는 온라인 인생학교(TED) 조성 - seoul 0\n",
      "11. 0.77 - 시민 큐레이터에 도전해 보세요 - seoul 0\n",
      "12. 0.76 - 전통시장, 다시 살림 프로젝트’ 확대 추진 - seoul 0\n"
     ]
    }
   ],
   "source": [
    "# Try some queries that don't match existing documents\n",
    "\n",
    "def match(title):\n",
    "    tags = pos(title)\n",
    "    print(\"Most similar to %s (%s)\" % (title, \" \".join(tags)))\n",
    "    threshold = 0.75\n",
    "    for posi, item in enumerate(find_similar(tags, threshold)):\n",
    "        key = int(item[0])\n",
    "        score = item[1]\n",
    "        print('%2d. %.2f - %s - %s %d' % (posi+1, score, texts[key][0], texts[key][2][0], texts[key][2][1]))\n",
    "\n",
    "match('임대주택')\n",
    "match(' 임대주택 등록하면 세금·건보료 감면…2020년 등록 의무화 검토')\n",
    "match('지난해 저소득층 근로소득 감소에…소득 불평등도 악화 : 네이버 뉴스')\n",
    "match('노후자금 털어 집에 투자? 전세금, 집값 용도 퇴직연금 중도인출 급증 : 네이버 뉴스')\n",
    "\n",
    "text = \"대학 등록금 동결 속 외국인 유학생만 '봉' 서울 주요 대학들이 외국인 유학생이 내야 할 등록금을 잇달아 올리려 하는 것으로 드러났다. 내국인 대학생에 대한 ‘등록금 동결’과 ‘입학금 폐지’로 줄어든 수입을 외국인 유학생에게서 더 받아내 만회하겠다는 것이다.\"\n",
    "match(text)"
   ]
  },
  {
   "cell_type": "code",
   "execution_count": 28,
   "metadata": {
    "collapsed": true
   },
   "outputs": [],
   "source": [
    "corpora.MmCorpus.serialize('lsi.mm', lsi_corpus)"
   ]
  },
  {
   "cell_type": "code",
   "execution_count": 29,
   "metadata": {},
   "outputs": [
    {
     "name": "stdout",
     "output_type": "stream",
     "text": [
      "CPU times: user 4.48 s, sys: 692 ms, total: 5.17 s\n",
      "Wall time: 6.8 s\n"
     ]
    }
   ],
   "source": [
    "%%time\n",
    "import numpy as np\n",
    "from sklearn.manifold import TSNE\n",
    "from gensim import matutils\n",
    "\n",
    "lsi_corpus = corpora.MmCorpus('lsi.mm')\n",
    "tsne = TSNE(n_components=2, init='pca', random_state=0, metric='cosine', angle=.99)\n",
    "X = matutils.corpus2dense(lsi_corpus, num_terms=lsi_corpus.num_terms)\n",
    "X_data = np.asarray(X).astype('float64')\n",
    "X_tsne = tsne.fit_transform(X_data.T)"
   ]
  },
  {
   "cell_type": "code",
   "execution_count": 30,
   "metadata": {
    "collapsed": true
   },
   "outputs": [],
   "source": [
    "# Only use topics with high enough propability\n",
    "threshold = 0.1\n",
    "_idx = np.amax(X, axis=0) > threshold\n",
    "X_ = X[:, _idx]\n",
    "X_tsne_ = X_tsne[_idx, :]"
   ]
  },
  {
   "cell_type": "code",
   "execution_count": 31,
   "metadata": {},
   "outputs": [
    {
     "data": {
      "text/plain": [
       "(20, 156)"
      ]
     },
     "execution_count": 31,
     "metadata": {},
     "output_type": "execute_result"
    }
   ],
   "source": [
    "#X_tsne[_idx, 0].shape\n",
    "X_.shape"
   ]
  },
  {
   "cell_type": "code",
   "execution_count": 32,
   "metadata": {
    "collapsed": true
   },
   "outputs": [],
   "source": [
    "import matplotlib\n",
    "matplotlib.rc('font', family='NanumGothic')\n",
    "\n",
    "from matplotlib import pyplot as plt\n",
    "top_topics = np.argmax(X_, axis=0)\n",
    "\n",
    "topics_words = lsi.show_topics(num_words=5, formatted=False)\n",
    "topic_summaries = [' '.join([word[0].split('/')[0] for word in topic]) for topic_no, topic in topics_words]\n",
    "\n",
    "plt.figure(figsize=(15,10))\n",
    "plt.scatter(X_tsne_[:, 0], X_tsne_[:, 1], c=top_topics, cmap=plt.cm.get_cmap(\"jet\", 50))\n",
    "\n",
    "plt.colorbar(ticks=range(50))\n",
    "plt.clim(-0.5, 9.5)\n",
    "\n",
    "# find center of topic clusters\n",
    "topic_coord = np.empty((len(topic_summaries), 2)) * np.nan\n",
    "for topic_num in range(len(topic_summaries)):\n",
    "    if not np.isnan(topic_coord).any():\n",
    "        break\n",
    "    docs_in_topics = (top_topics==topic_num)\n",
    "    if not docs_in_topics.any():\n",
    "        # no documents were assigned to this topic\n",
    "        continue\n",
    "    #topic_coord[topic_num] = X_tsne_[top_topics==topic_num].mean(axis=0)\n",
    "    topic_coord[topic_num] = X_tsne_[np.argmax(top_topics==topic_num)]\n",
    "\n",
    "# plot topic summaries\n",
    "for i in range(len(topic_summaries)):\n",
    "    if np.isnan(topic_coord[i]).any():\n",
    "        continue\n",
    "    plt.text(topic_coord[i, 0], topic_coord[i, 1], topic_summaries[i])\n",
    "\n",
    "\n",
    "#plt.show()\n",
    "plt.savefig('tsne.png')"
   ]
  },
  {
   "cell_type": "code",
   "execution_count": 33,
   "metadata": {},
   "outputs": [
    {
     "data": {
      "text/plain": [
       "(20, 156)"
      ]
     },
     "execution_count": 33,
     "metadata": {},
     "output_type": "execute_result"
    }
   ],
   "source": [
    "X_.shape"
   ]
  },
  {
   "cell_type": "code",
   "execution_count": 34,
   "metadata": {},
   "outputs": [
    {
     "data": {
      "text/plain": [
       "'/Users/paul/Projects/kixlab/xproject/xproj-utils/promise-match/Promises LSI vizualization.html'"
      ]
     },
     "execution_count": 34,
     "metadata": {},
     "output_type": "execute_result"
    }
   ],
   "source": [
    "import numpy as np\n",
    "import bokeh.plotting as bp\n",
    "from bokeh.plotting import output_file, save\n",
    "from bokeh.models import HoverTool\n",
    "from random import shuffle\n",
    "\n",
    "colors = [\"#E495A5\", \"#E3979D\", \"#E19895\", \"#DE9A8E\", \"#DB9C86\", \"#D89F7F\", \"#D3A178\", \"#CEA372\", \"#C9A66D\", \"#C3A869\", \"#BDAB66\", \"#B6AD65\", \"#AFAF64\", \"#A7B166\", \"#9EB368\", \"#96B56C\", \"#8DB771\", \"#83B977\", \"#79BA7E\", \"#6FBB84\", \"#65BC8C\", \"#5ABD93\", \"#50BE9B\", \"#46BEA2\", \"#3FBEAA\", \"#39BEB1\", \"#37BDB8\", \"#3ABCBF\", \"#41BBC5\", \"#4ABACB\", \"#55B8D0\", \"#61B6D5\", \"#6DB4D9\", \"#79B1DC\", \"#85AEDF\", \"#91ACE1\", \"#9CA9E2\", \"#A6A6E2\", \"#B0A3E1\", \"#B9A0E0\", \"#C29DDE\", \"#C99ADB\", \"#D098D7\", \"#D596D3\", \"#DA95CD\", \"#DE94C8\", \"#E093C1\", \"#E393BB\", \"#E493B4\", \"#E494AC\"]\n",
    "shuffle(colors)\n",
    "colormap = np.array(colors)\n",
    "title = 'Promises LSI vizualization'\n",
    "num_example = len(X_)\n",
    "\n",
    "plot = bp.figure(plot_width=1200, plot_height=700,\n",
    "                     title=title,\n",
    "                     tools=\"pan,wheel_zoom,box_zoom,reset,hover,previewsave\",\n",
    "                     min_border=1)\n",
    "\n",
    "plot.scatter(x='x', y='y',\n",
    "                 color='color',\n",
    "                 source=bp.ColumnDataSource({\n",
    "                   \"x\": X_tsne_[:, 0], \"y\": X_tsne_[:, 1],\n",
    "                   \"content\": np.array(['%s %s %d' % (text[0], text[2][0], text[2][1]) for text in texts])[_idx],\n",
    "                   \"topic_key\": top_topics,\n",
    "                   \"topic_summary\": [topic_summaries[i] for i in top_topics],\n",
    "                   \"color\": colormap[top_topics]\n",
    "                   }))\n",
    "\n",
    "for i in range(len(topic_summaries)):\n",
    "    if np.isnan(topic_coord[i]).any():\n",
    "        continue\n",
    "    plot.text(topic_coord[i, 0], topic_coord[i, 1], [topic_summaries[i]])\n",
    "\n",
    "    \n",
    "hover = plot.select(dict(type=HoverTool))\n",
    "hover.tooltips = {\"content\": \"@content - topic: @topic_key @topic_summary\"}\n",
    "output_file('{}.html'.format(title))\n",
    "save(plot)\n"
   ]
  },
  {
   "cell_type": "code",
   "execution_count": null,
   "metadata": {
    "collapsed": true
   },
   "outputs": [],
   "source": []
  },
  {
   "cell_type": "code",
   "execution_count": null,
   "metadata": {
    "collapsed": true
   },
   "outputs": [],
   "source": []
  }
 ],
 "metadata": {
  "kernelspec": {
   "display_name": "Python 3",
   "language": "python",
   "name": "python3"
  },
  "language_info": {
   "codemirror_mode": {
    "name": "ipython",
    "version": 3
   },
   "file_extension": ".py",
   "mimetype": "text/x-python",
   "name": "python",
   "nbconvert_exporter": "python",
   "pygments_lexer": "ipython3",
   "version": "3.4.3"
  }
 },
 "nbformat": 4,
 "nbformat_minor": 2
}
