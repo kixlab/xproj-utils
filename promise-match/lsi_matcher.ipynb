{
 "cells": [
  {
   "cell_type": "code",
   "execution_count": 6,
   "metadata": {
    "collapsed": true
   },
   "outputs": [],
   "source": [
    "import logging\n",
    "logging.getLogger().setLevel(logging.WARNING)\n",
    "\n",
    "from konlpy.corpus import kobill, kolaw\n",
    "from konlpy.tag import Twitter\n",
    "twitter = Twitter()\n",
    "\n",
    "stopwords = \"수 년 등 및 몇 중 네이버 뉴스\".split()\n",
    "stopwords += \"공급 설치 조성 운영 실행 설립 확대 제공 실시 지원 검토 육성 추진 유치 강화 개선 구축 마련 확충 실시 개선 해소\".split()\n",
    "stopwords = set(stopwords)\n",
    "\n",
    "pos = lambda d: ['/'.join(p) for p in twitter.pos(d, stem=True, norm=True) if p[0] not in stopwords and p[1] in ('Noun', 'Verb', 'Alpha', 'Adjective')]"
   ]
  },
  {
   "cell_type": "code",
   "execution_count": 7,
   "metadata": {},
   "outputs": [
    {
     "data": {
      "text/plain": [
       "[('청각장애', 'Noun'),\n",
       " ('인과', 'Noun'),\n",
       " ('함께', 'Adverb'),\n",
       " ('CCTV', 'Alpha'),\n",
       " ('로', 'Noun'),\n",
       " ('만들다', 'Verb'),\n",
       " ('안전하다', 'Adjective'),\n",
       " ('서울', 'Noun')]"
      ]
     },
     "execution_count": 7,
     "metadata": {},
     "output_type": "execute_result"
    }
   ],
   "source": [
    "twitter.pos('청각장애인과 함께 CCTV로 만드는 안전한 서울', stem=True, norm=True)"
   ]
  },
  {
   "cell_type": "code",
   "execution_count": 8,
   "metadata": {},
   "outputs": [
    {
     "data": {
      "text/plain": [
       "[('창', 'Noun'), ('추다', 'Verb'), ('추다', 'Verb')]"
      ]
     },
     "execution_count": 8,
     "metadata": {},
     "output_type": "execute_result"
    }
   ],
   "source": [
    "from konlpy.tag import Hannanum\n",
    "hannanum = Hannanum()\n",
    "\n",
    "twitter.pos('창출을 춘다', stem=True)\n",
    "#hannanum.pos('창출을 춘다')"
   ]
  },
  {
   "cell_type": "code",
   "execution_count": 9,
   "metadata": {},
   "outputs": [
    {
     "name": "stdout",
     "output_type": "stream",
     "text": [
      "CPU times: user 1.41 s, sys: 21.4 ms, total: 1.44 s\n",
      "Wall time: 1.71 s\n"
     ]
    }
   ],
   "source": [
    "%%time\n",
    "texts_kobill = [pos(kobill.open(i).read()) for i in kobill.fileids()]\n",
    "texts_kolaw = [pos(kolaw.open(i).read()) for i in kolaw.fileids()]"
   ]
  },
  {
   "cell_type": "code",
   "execution_count": null,
   "metadata": {
    "collapsed": true
   },
   "outputs": [],
   "source": []
  },
  {
   "cell_type": "code",
   "execution_count": 20,
   "metadata": {},
   "outputs": [
    {
     "name": "stdout",
     "output_type": "stream",
     "text": [
      "250\n",
      "CPU times: user 393 ms, sys: 352 ms, total: 745 ms\n",
      "Wall time: 1.3 s\n"
     ]
    }
   ],
   "source": [
    "%%time\n",
    "import json\n",
    "\n",
    "texts = []\n",
    "\n",
    "for fname in ('jisa_tagged.json', 'mayor_tagged.json',):\n",
    "    with open(fname) as data_file:    \n",
    "        data = json.load(data_file)\n",
    "        for voting_district in data:\n",
    "            if voting_district['city'] != 'seoul' or voting_district['district'] > 28:\n",
    "                continue\n",
    "            promises = voting_district['promises']\n",
    "            for p in promises:\n",
    "                texts.append((p['title'], pos(p['title']), (voting_district['city'], voting_district['district'])))\n",
    "\n",
    "texts_promises = [text[1] for text in texts]\n",
    "print(len(texts_promises))\n",
    "\n",
    "with open('test-data/promise-titles.json', 'w') as f:\n",
    "    json.dump([text[0] for text in texts], f)"
   ]
  },
  {
   "cell_type": "code",
   "execution_count": 21,
   "metadata": {
    "collapsed": true
   },
   "outputs": [],
   "source": [
    "from gensim import corpora, models\n",
    "# Create dictionary\n",
    "corpus = texts_kobill + texts_kolaw + texts_promises\n",
    "#corpus = texts_promises\n",
    "logging.info('Dictionary from %d documents' % len(corpus))\n",
    "dictionary_ko = corpora.Dictionary(corpus)\n",
    "# Filter terms that occur in more than 2% of the documents\n",
    "dictionary_ko.filter_extremes(no_below=0, no_above=0.02)\n",
    "# Save for later use\n",
    "dictionary_ko.save('ko.dict')"
   ]
  },
  {
   "cell_type": "code",
   "execution_count": 22,
   "metadata": {},
   "outputs": [
    {
     "name": "stderr",
     "output_type": "stream",
     "text": [
      "WARNING:gensim.similarities.docsim:scanning corpus to determine the number of features (consider setting `num_features` explicitly)\n"
     ]
    },
    {
     "name": "stdout",
     "output_type": "stream",
     "text": [
      "CPU times: user 184 ms, sys: 67.8 ms, total: 252 ms\n",
      "Wall time: 365 ms\n"
     ]
    }
   ],
   "source": [
    "%%time\n",
    "from gensim import similarities\n",
    "\n",
    "num_topics = 30\n",
    "\n",
    "# Generate Lsi model for promise text corpus\n",
    "corpus = [dictionary_ko.doc2bow(text) for text in texts_promises]\n",
    "# Train Lsi model\n",
    "lsi = models.LsiModel(corpus, id2word=dictionary_ko, num_topics=num_topics)\n",
    "lsi.save('lsi.model')\n",
    "# Transform corpus to LSI space and index it\n",
    "lsi_corpus = lsi[corpus]\n",
    "index = similarities.MatrixSimilarity(lsi_corpus)\n",
    "index.save('lsi.index')"
   ]
  },
  {
   "cell_type": "code",
   "execution_count": 44,
   "metadata": {},
   "outputs": [
    {
     "name": "stdout",
     "output_type": "stream",
     "text": [
      "Most similar to 동북아 대도시 대기환경협의체 구성 및 대기개선 노하우 공유 (동북아/Noun 대도시/Noun 대기/Noun 환경/Noun 협의/Noun 체/Noun 구성/Noun 대기/Noun 노하우/Noun 공유/Noun)\n",
      "0.99 - 교육지원협의체 구성\n",
      "0.98 - 4) 복지 네트워크 구성 및 사회적 연대틀 강화\n",
      "0.96 - 지방의회 산하 생활안정센터 구성\n",
      "0.96 - 마포구 분양가 자문위원회 구성\n",
      "0.96 - 성북구 생활구정위원회 구성·운영\n",
      "0.96 - 주민자치위원회 구성의 다양화\n",
      "0.95 - 생활구정 혁신본부 구성\n",
      "0.95 - 도시재생본부 설립 및 도시재생자문위원회 운영\n",
      "0.95 - 예술위원회 구성\n",
      "0.94 - 각종 위원회 운영상황 상시공개 추진\n",
      "0.94 - 구정 주민자치위원회 신설 및 동 자치위원회 활성화\n",
      "0.94 - 종로비전위원회 설치\n",
      "0.94 - 인사위원회 주민참여 확대\n",
      "0.94 - 각종 위원회 주민참여 확대\n",
      "0.94 - 구정운영위원회 설치 운영\n",
      "0.94 - 다문화 가정 지원을 위한 전담팀 구성 · 운영\n",
      "0.94 - 개방형 감사관 및 감사위원회 설치\n",
      "0.94 - 4) 각급 위원회 활성화 및 전문가의 구정참여 실질화\n",
      "0.94 - 위원회 회의자료 사전공개 및 결정 공개\n",
      "0.93 - 주민참여형 지역개발위원회 상설 기구화\n",
      "0.93 - 교육지원본부 신설\n",
      "0.92 - 동대문구 일자리창출정책협의회 구성\n",
      "0.92 - ∘한국문화예술위원회와 협력\n",
      "0.91 - 인사위원회 공정성 확립\n",
      "0.90 - 주민자치위원 공개 모집\n",
      "0.87 - 구정 조직 재진단 및 쇄신\n",
      "0.86 - 깨끗하고 투명한 청정구정 구현\n",
      "0.85 - 동 자치회관 프로그램 개선\n",
      "0.85 - 주민과만남 정례화(자치회관 프로그램 운영확대)\n",
      "0.84 - 동자치회관 문화교양강좌 활성화\n",
      "0.84 - 구룡마을 문제 해결을 위한 전문가협의체 구성 및 합리적 방안 모색\n",
      "0.83 - 전문가가 참여하는 구정평가단 운영\n",
      "0.83 - 4) 시민단체 협력과 구정참여 확대\n",
      "0.82 - 4) 동별 자치문화 한마당 개최\n",
      "0.81 - ∘학점은행제, 각종 실무․실기교육\n",
      "0.76 - 각종 회의자료, 업무추진비, 결산자료 공개로 투명행정 구현\n",
      "0.76 - 3) 녹색서대문시민위원회 설치 및 운영\n"
     ]
    }
   ],
   "source": [
    "def find_similar(tagged_text, similarity_threshold=None):\n",
    "    # Convert text to bag of words\n",
    "    vec_bow = dictionary_ko.doc2bow(tagged_text)\n",
    "    # Convert the query to LSI space\n",
    "    vec_lsi = lsi[vec_bow]\n",
    "    # Perform a similarity query against the corpus\n",
    "    sims = enumerate(index[vec_lsi])\n",
    "    if similarity_threshold:\n",
    "        sims = filter(lambda item: item[1] >= similarity_threshold, sims)\n",
    "    # Return the similarities sorted by descending score\n",
    "    return sorted(sims, key=lambda item: -item[1])\n",
    "    \n",
    "# Try to match a few existing documents\n",
    "\n",
    "for text in texts[100:101]:\n",
    "    sims = find_similar(text[1], similarity_threshold=0.75)\n",
    "    print(\"Most similar to %s (%s)\" % (text[0], ' '.join(text[1])))\n",
    "    for key, score in sims[1:]:\n",
    "        key = int(key)\n",
    "        print('%.2f - %s' % (score, texts[key][0]))\n"
   ]
  },
  {
   "cell_type": "code",
   "execution_count": 87,
   "metadata": {},
   "outputs": [
    {
     "name": "stdout",
     "output_type": "stream",
     "text": [
      "Number of matches per document: max 44, min 0, mean 17.69, median 19\n",
      "9 documents didn't match with themself as their best match\n",
      "  but 2 of them matched at pos 1.\n",
      "29 (5%) with 0 matches\n",
      "CPU times: user 1.23 s, sys: 18.8 ms, total: 1.25 s\n",
      "Wall time: 1.26 s\n"
     ]
    }
   ],
   "source": [
    "%%time\n",
    "import numpy as np\n",
    "# Find similarities of all documents with each other and see how many matches higher than x score there are\n",
    "# Used to figure out a threshold that regards enough documents as matched\n",
    "threshold = 0.72\n",
    "counts = []\n",
    "counts_self_no_match = []\n",
    "for idx, text in enumerate(texts[:500]):\n",
    "    similarities = np.array(find_similar(text[1]))\n",
    "    # Remove self-similarity\n",
    "    id_idx = np.where(similarities[:, 0]==idx)[0][0]\n",
    "    similarities = np.delete(similarities, id_idx, axis=0)\n",
    "    # Record when self wasn't the best match (it is usally the 2nd best in these cases)\n",
    "    if id_idx != 0:\n",
    "        counts_self_no_match.append((idx, id_idx))\n",
    "    # Count number of docs with similarity >= threshold\n",
    "    count = np.sum(similarities[:,1]>=threshold)\n",
    "    counts.append(count)\n",
    "\n",
    "counts = np.array(counts)\n",
    "counts_self_no_match = np.array(counts_self_no_match)\n",
    "print('Number of matches per document: max %d, min %d, mean %.2f, median %d' % (np.max(counts), np.min(counts), np.mean(counts), np.median(counts)))\n",
    "print('%d documents didn\\'t match with themself as their best match' % (len(counts_self_no_match)))\n",
    "if len(counts_self_no_match):\n",
    "    print('  but %d of them matched at pos 1.' % (np.sum(counts_self_no_match[:,1]==1)))\n",
    "\n",
    "no_match_count = np.sum(counts==0)\n",
    "print('%d (%d%%) with 0 matches' % (no_match_count, 100*no_match_count/len(counts)))"
   ]
  },
  {
   "cell_type": "code",
   "execution_count": 73,
   "metadata": {},
   "outputs": [
    {
     "name": "stdout",
     "output_type": "stream",
     "text": [
      "Document with highest number of matches:\n",
      "('창의어린이 공원 조성사업', ['창의/Noun', '어린이/Noun', '공원/Noun', '사업/Noun'], ('seoul', 8))\n"
     ]
    }
   ],
   "source": [
    "print(\"Document with highest number of matches:\")\n",
    "print(texts[np.argmax(counts)])"
   ]
  },
  {
   "cell_type": "code",
   "execution_count": 47,
   "metadata": {},
   "outputs": [
    {
     "name": "stdout",
     "output_type": "stream",
     "text": [
      "Unmatched documents:\n",
      "개포모바일 융합클러스터 조성사업 추진 ['개포/Noun', '모바일/Noun', '융합/Noun', '클러스터/Noun', '사업/Noun']\n",
      "시장 직속 일자리 위원회 신설 ['시장/Noun', '직속/Noun', '일자리/Noun', '위원회/Noun', '신설/Noun']\n",
      "한양도성 세계유산 등재 ['한양도성/Noun', '세계/Noun', '유산/Noun', '등재/Noun']\n",
      "잠자리, 먹거리, 일거리가 한곳에서 해결되도록 지원 ['잠자리/Noun', '먹거리/Noun', '일거리/Noun', '곳/Noun', '해결/Noun', '되다/Verb']\n",
      "불공정피해 상담센터 기능 확대 ['불공정/Noun', '피해/Noun', '상담/Noun', '센터/Noun', '기능/Noun']\n",
      "서울시네마테크’ 건립 ['서울/Noun', '시네마테크/Noun', '건립/Noun']\n",
      "지하철역 엘리베이터 설치 지속추진, 공공시설 장애인 동선 확보 ['지하철역/Noun', '엘리베이터/Noun', '지속/Noun', '공공시설/Noun', '장애인/Noun', '동선/Noun', '확보/Noun']\n",
      "수도권연계 광역도시철도 신설 및 제3기 도시철도 조기 추진 ['수도/Noun', '권연/Noun', '광역/Noun', '도시철도/Noun', '신설/Noun', '제/Noun', '기/Noun', '도시철도/Noun', '조기/Noun']\n",
      "서울 선데이파크에서 놀면서 살빼요 ['서울/Noun', '선데이/Noun', '파크/Noun', '놀다/Verb', '살빼다/Adjective']\n",
      "사고위치 번호판 운영 ['사고/Noun', '위치/Noun', '번호판/Noun']\n",
      "글로벌 의료관광 육성 ['글로벌/Noun', '의료관광/Noun']\n",
      "금융기관 본점 등 건실한 기업 유치 ['금융기관/Noun', '본점/Noun', '건실/Noun', '기업/Noun']\n",
      "자원봉사와 노인일자리 등 생산적인 노후생활 활성화 ['자원봉사/Noun', '노인/Noun', '일자리/Noun', '생산/Noun', '노후/Noun', '생활/Noun', '활성화/Noun']\n",
      "공직사회 무사안일 · 복지부동 추방 ['공직/Noun', '사회/Noun', '무사/Noun', '안일/Noun', '복지/Noun', '부동/Noun', '추방/Noun']\n",
      "부정, 부패 직원 일벌백계 및 신상필벌 확행 ['부정/Noun', '부패/Noun', '직원/Noun', '일벌/Noun', '계/Noun', '신상/Noun', '필벌/Noun', '확행/Noun']\n",
      "테마형 도서관 신설 및 운영 내실화 ['테마/Noun', '도서관/Noun', '신설/Noun', '실화/Noun']\n",
      "구암서원 건립 추진 ['구암서원/Noun', '건립/Noun']\n",
      "암사역사생태공원 조성 ['암사역/Noun', '사생/Noun', '태공/Noun']\n",
      "리틀야구장 조성 ['리틀/Noun', '야구장/Noun']\n",
      "CI 리뉴얼 ['CI/Alpha', '리뉴얼/Noun']\n",
      "강동그린웨이 완성 ['강동/Noun', '린웨이/Noun', '완성/Noun']\n",
      "암사대교 건립 ['암사대교/Noun', '건립/Noun']\n",
      "서울-세종 간 고속도로 강동통과 반대 지속 협의 ['서울/Noun', '세종/Noun', '간/Noun', '고속도로/Noun', '강동/Noun', '통과/Noun', '반대/Noun', '지속/Noun', '협의/Noun']\n",
      "노인복지시설 건립 ['노인/Noun', '복지/Noun', '시설/Noun', '건립/Noun']\n",
      "질 높은 인터넷 강의 개설 ['질/Noun', '높다/Adjective', '인터넷/Noun', '강의/Noun', '개설/Noun']\n",
      "학교 교육지원비 확대 ['학교/Noun', '교육/Noun', '비/Noun']\n",
      "미아삼거리를 동북부의 자족거점으로 육성 ['미아/Noun', '삼거리/Noun', '동북/Noun', '부의/Noun', '자족/Noun', '거점/Noun']\n",
      "평생교육프로그램 강화 ['평생교육/Noun', '프로그램/Noun']\n",
      "강서희망나눔복지재단 창립 ['강서희/Noun', '망/Noun', '나눔/Noun', '복지/Noun', '재단/Noun', '창립/Noun']\n",
      "방화로 개통 ['방화/Noun', '개통/Noun']\n",
      "초등학개 농·산촌 유학 지원 ['초등/Noun', '학개/Noun', '농/Noun', '산촌/Noun', '유학/Noun']\n"
     ]
    }
   ],
   "source": [
    "print(\"Unmatched documents:\")\n",
    "for idx in np.where(counts==0)[0]:\n",
    "    print(texts[idx][0], texts[idx][1])"
   ]
  },
  {
   "cell_type": "code",
   "execution_count": 74,
   "metadata": {},
   "outputs": [
    {
     "name": "stdout",
     "output_type": "stream",
     "text": [
      "Most similar to 임대주택 (임대주택/Noun)\n",
      " 1. 0.97 - 장기 공공임대주택 2500호 공급 -> 장기 공공임대주택 2,400호 공급 - seoul 16\n",
      " 2. 0.96 - 8) 대학생 임대주택 공급 지원 - seoul 17\n",
      " 3. 0.95 - 태양광 설치비’ 장기 저금리 융자지원 - seoul 0\n",
      " 4. 0.93 - 공공청사 태양광발전소 건립 확대 - seoul 2\n",
      " 5. 0.93 - 공공보육시설 확충 - seoul 1\n",
      " 6. 0.93 - 스마트형 공공 쓰레기통, ‘진격의 스마통’ - seoul 0\n",
      " 7. 0.93 - 공공청사 장소대관 활성화 - seoul 2\n",
      " 8. 0.92 - 공공·작은도서관 지속적 확충 및 운영 개선 - seoul 0\n",
      " 9. 0.91 - 맞벌이 부부를 위한 역세권 공공보육시설 설치 - seoul 13\n",
      "10. 0.90 - 폐기물 수거업무의 공공기능 확대 - seoul 26\n",
      "11. 0.89 - 공공 노인요양원 30개소 설치 - seoul 0\n",
      "12. 0.89 - 공공부문 일자리 종합대책 수립 - seoul 13\n",
      "13. 0.87 - 대학생등록금 50% 무이자지원(구립대학생 공공기숙사 건립) -> 대학생 등록금 지원 장학사업 - seoul 26\n",
      "14. 0.86 - 신축공공건물 옥상공원화 및 에너지효율1등급 건축물 건설 - seoul 26\n",
      "15. 0.85 - 365일 24시간 운영 공공보육시설 시범 설치 - seoul 1\n",
      "16. 0.85 - 서울시정 대학생 인턴십 프로그램 - seoul 0\n",
      "17. 0.83 - 세대융합(화합)형 공공주택 공급 - seoul 0\n",
      "18. 0.83 - 공공도서관 연계 활성화 - seoul 2\n",
      "19. 0.82 - 용산구 장학기금 운영 - seoul 24\n",
      "20. 0.81 - 공공부문 채용시 전체의 3%는 은퇴자, 노인 고용 의무화 추진 - seoul 16\n",
      "Most similar to  임대주택 등록하면 세금·건보료 감면…2020년 등록 의무화 검토 (임대주택/Noun 등록/Noun 하다/Verb 세금/Noun 건/Noun 보료/Noun 감다/Verb 등록/Noun 의무/Noun)\n",
      "Most similar to 지난해 저소득층 근로소득 감소에…소득 불평등도 악화 : 네이버 뉴스 (지난해/Noun 소득/Noun 층/Noun 근로/Noun 소득/Noun 감소/Noun 소득/Noun 불평등/Noun 악화/Noun)\n",
      " 1. 1.00 - 저소득층 지원 확충 - seoul 3\n",
      " 2. 1.00 - 저소득층 자녀 지원프로그램 강화 - seoul 2\n",
      " 3. 1.00 - 무상보육을 소득하위 80%까지 확대 추진 - seoul 1\n",
      " 4. 0.99 - 저소득층 국민연금보험료 지원 - seoul 3\n",
      " 5. 0.99 - 저소득 학생을 위한 멘토링 사업 - seoul 20\n",
      " 6. 0.99 - 저소득층 자녀 수업료 · 등록금 지원 확대 - seoul 1\n",
      " 7. 0.98 - 저소득 한부모가족 지원 - seoul 24\n",
      " 8. 0.95 - 저소득층을 위한 다가구 임대주택 공급 - seoul 20\n",
      " 9. 0.93 - 저소득 소외계층 의료지원 확대 (노인의치 보철사업비 지원) (65세이상 저소득 어르신 의료지원 확대) - seoul 15\n",
      "10. 0.90 - 저소득층(차상위계층등)의 건강보험료 자기부담금 지원 - seoul 13\n",
      "11. 0.89 - 의료취약계층을 찾아가는 의료서비스 제공 - seoul 27\n",
      "12. 0.89 - 취약계층 의료서비스 강화로 의료 사각지대 해소 - seoul 14\n",
      "13. 0.87 - 저소득층 국민건강보험료 지원 - seoul 27\n",
      "14. 0.87 - 0세아 의료비 지원 - seoul 10\n",
      "15. 0.86 - 서울의료원 신축 - seoul 28\n",
      "16. 0.85 - 장애인 재활의료시설(의원) 운영 (장애인 복지관 기능보강) - seoul 19\n",
      "17. 0.84 - 재난의료전담센터 설치 - seoul 0\n",
      "18. 0.84 - 보건소 의료장비 현대화 - seoul 26\n",
      "19. 0.82 - 보육수당 지급 확대 - seoul 12\n",
      "20. 0.78 - 차상위계층 국민건강 보험료 지급대상자 확대 - seoul 9\n",
      "21. 0.78 - 주민소득지원 및 생활안정기금 우선지원 - seoul 14\n",
      "22. 0.77 - 찾아가는 복지플래너(사회복지사+방문간호사) 실시 - seoul 0\n",
      "23. 0.77 - 거동이 불편하세요? 도서관이 찾아갑니다 - seoul 0\n",
      "24. 0.75 - 부모와 자녀가 함께 만드는 ‘패밀리셰프’ - seoul 0\n",
      "Most similar to 노후자금 털어 집에 투자? 전세금, 집값 용도 퇴직연금 중도인출 급증 : 네이버 뉴스 (노후/Noun 자금/Noun 털다/Verb 집/Noun 투자/Noun 전/Noun 세금/Noun 집값/Noun 용도/Noun 퇴직/Noun 연금/Noun 중도/Noun 추다/Verb 급증/Noun)\n",
      " 1. 0.98 - 지역실정에 맞는 청년일자리 창출 확대 - seoul 1\n",
      " 2. 0.98 - 사회서비스 일자리 창출 - seoul 3\n",
      " 3. 0.98 - 청년실업 해소를 위한 일자리 창출 - seoul 24\n",
      " 4. 0.98 - 사회적 기업지원센터 설립으로 일자리 창출->사회적기업지원 발굴.육성으로 일자리 창출 - seoul 19\n",
      " 5. 0.98 - 일자리 창출 종합대책 추진 - seoul 27\n",
      " 6. 0.97 - 노인일자리 창출 및 노인 고용기업 육성 - seoul 19\n",
      " 7. 0.97 - 맞춤형 여성일자리 10만개 창출 - seoul 0\n",
      " 8. 0.97 - 일자리창출 사회적기업 설립 - seoul 25\n",
      " 9. 0.96 - 중소기업종합지원센터 운영 내실화 및 일자리 창출 체계구축 - seoul 19\n",
      "10. 0.96 - 일자리 창출을 위한 취업전문 평생교육센터 건립 - seoul 23\n",
      "11. 0.94 - 구로1동 철동기지창 이전 - seoul 10\n",
      "12. 0.94 - 어르신 맞춤형 일자리 창출 - seoul 14\n",
      "13. 0.94 - 어르신 일자리 창출 - seoul 2\n",
      "14. 0.94 - 1) 어르신 일자리 창출 - seoul 17\n",
      "15. 0.94 - 어르신일자리 창출 - seoul 26\n",
      "16. 0.93 - 동부지역(숭인, 창신권역) 명문중고교 유치 - seoul 26\n",
      "17. 0.87 - 자전거 출․퇴근 선호환경 조성 - seoul 1\n",
      "18. 0.85 - 일자리 창출 위원회' 설립 - seoul 16\n",
      "19. 0.85 - 공공일자리 창출로 일자리 확대 - seoul 12\n",
      "20. 0.84 - 일자리창출을 통한 서민생활 안정 - seoul 8\n",
      "21. 0.83 - 공공서비스 확대 및 사회적 기업 육성·지원을 통한 일자리 창출 - seoul 4\n",
      "22. 0.81 - 일자리 창출 (공공, 민간부문) - seoul 21\n",
      "23. 0.80 - 사회적기업 발굴 및 육성･지원 - seoul 2\n",
      "24. 0.80 - 노인일자리 발굴 - seoul 9\n",
      "25. 0.80 - 사회적 기업 육성 및 발굴 - seoul 14\n",
      "26. 0.77 - 중구형 사회적 기업 발굴·육성 - seoul 27\n",
      "27. 0.76 - 명문고 육성 - seoul 24\n",
      "Most similar to 대학 등록금 동결 속 외국인 유학생만 '봉' 서울 주요 대학들이 외국인 유학생이 내야 할 등록금을 잇달아 올리려 하는 것으로 드러났다. 내국인 대학생에 대한 ‘등록금 동결’과 ‘입학금 폐지’로 줄어든 수입을 외국인 유학생에게서 더 받아내 만회하겠다는 것이다. (대학/Noun 등록금/Noun 동결/Noun 속/Noun 외국인/Noun 유학생/Noun 봉/Noun 서울/Noun 주요/Noun 대학/Noun 외국인/Noun 유학생/Noun 내야/Noun 하다/Verb 등록금/Noun 잇다/Verb 달/Noun 올리다/Verb 하다/Verb 것/Noun 드러나다/Verb 국/Noun 대학생/Noun 대한/Noun 등록금/Noun 동결/Noun 과/Noun 입학/Noun 금/Noun 폐지/Noun 로/Noun 줄어들다/Verb 수입/Noun 외국인/Noun 유학생/Noun 더/Noun 받다/Verb 만회/Noun 하다/Verb 것/Noun)\n",
      " 1. 0.82 - 2) 대학, 대학생 연계 교육지원 사업 확대 - seoul 17\n",
      " 2. 0.79 - 서울시정 대학생 인턴십 프로그램 - seoul 0\n",
      " 3. 0.76 - 대학생등록금 50% 무이자지원(구립대학생 공공기숙사 건립) -> 대학생 등록금 지원 장학사업 - seoul 26\n"
     ]
    }
   ],
   "source": [
    "# Try some queries that don't match existing documents\n",
    "\n",
    "def match(title):\n",
    "    tags = pos(title)\n",
    "    print(\"Most similar to %s (%s)\" % (title, \" \".join(tags)))\n",
    "    threshold = 0.75\n",
    "    for posi, item in enumerate(find_similar(tags, threshold)):\n",
    "        key = int(item[0])\n",
    "        score = item[1]\n",
    "        print('%2d. %.2f - %s - %s %d' % (posi+1, score, texts[key][0], texts[key][2][0], texts[key][2][1]))\n",
    "\n",
    "match('임대주택')\n",
    "match(' 임대주택 등록하면 세금·건보료 감면…2020년 등록 의무화 검토')\n",
    "match('지난해 저소득층 근로소득 감소에…소득 불평등도 악화 : 네이버 뉴스')\n",
    "match('노후자금 털어 집에 투자? 전세금, 집값 용도 퇴직연금 중도인출 급증 : 네이버 뉴스')\n",
    "\n",
    "text = \"대학 등록금 동결 속 외국인 유학생만 '봉' 서울 주요 대학들이 외국인 유학생이 내야 할 등록금을 잇달아 올리려 하는 것으로 드러났다. 내국인 대학생에 대한 ‘등록금 동결’과 ‘입학금 폐지’로 줄어든 수입을 외국인 유학생에게서 더 받아내 만회하겠다는 것이다.\"\n",
    "match(text)"
   ]
  },
  {
   "cell_type": "code",
   "execution_count": 75,
   "metadata": {
    "collapsed": true
   },
   "outputs": [],
   "source": [
    "corpora.MmCorpus.serialize('lsi.mm', lsi_corpus)"
   ]
  },
  {
   "cell_type": "code",
   "execution_count": 76,
   "metadata": {},
   "outputs": [
    {
     "name": "stdout",
     "output_type": "stream",
     "text": [
      "CPU times: user 23.6 s, sys: 3.51 s, total: 27.1 s\n",
      "Wall time: 30.1 s\n"
     ]
    }
   ],
   "source": [
    "%%time\n",
    "import numpy as np\n",
    "from sklearn.manifold import TSNE\n",
    "from gensim import matutils\n",
    "\n",
    "lsi_corpus = corpora.MmCorpus('lsi.mm')\n",
    "tsne = TSNE(n_components=2, init='pca', random_state=0, metric='cosine', angle=.99)\n",
    "X = matutils.corpus2dense(lsi_corpus, num_terms=lsi_corpus.num_terms)\n",
    "X_data = np.asarray(X).astype('float64')\n",
    "X_tsne = tsne.fit_transform(X_data.T)"
   ]
  },
  {
   "cell_type": "code",
   "execution_count": 81,
   "metadata": {
    "collapsed": true
   },
   "outputs": [],
   "source": [
    "# Only use topics with high enough propability\n",
    "threshold = 0.1\n",
    "_idx = np.amax(X, axis=0) > threshold\n",
    "X_ = X[:, _idx]\n",
    "X_tsne_ = X_tsne[_idx, :]"
   ]
  },
  {
   "cell_type": "code",
   "execution_count": 82,
   "metadata": {},
   "outputs": [
    {
     "data": {
      "text/plain": [
       "(30, 972)"
      ]
     },
     "execution_count": 82,
     "metadata": {},
     "output_type": "execute_result"
    }
   ],
   "source": [
    "#X_tsne[_idx, 0].shape\n",
    "X_.shape"
   ]
  },
  {
   "cell_type": "code",
   "execution_count": 83,
   "metadata": {
    "collapsed": true
   },
   "outputs": [],
   "source": [
    "import matplotlib\n",
    "matplotlib.rc('font', family='NanumGothic')\n",
    "\n",
    "from matplotlib import pyplot as plt\n",
    "top_topics = np.argmax(X_, axis=0)\n",
    "\n",
    "topics_words = lsi.show_topics(num_words=5, formatted=False)\n",
    "topic_summaries = [' '.join([word[0].split('/')[0] for word in topic]) for topic_no, topic in topics_words]\n",
    "\n",
    "plt.figure(figsize=(15,10))\n",
    "plt.scatter(X_tsne_[:, 0], X_tsne_[:, 1], c=top_topics, cmap=plt.cm.get_cmap(\"jet\", 50))\n",
    "\n",
    "plt.colorbar(ticks=range(50))\n",
    "plt.clim(-0.5, 9.5)\n",
    "\n",
    "# find center of topic clusters\n",
    "topic_coord = np.empty((len(topic_summaries), 2)) * np.nan\n",
    "for topic_num in range(len(topic_summaries)):\n",
    "    if not np.isnan(topic_coord).any():\n",
    "        break\n",
    "    docs_in_topics = (top_topics==topic_num)\n",
    "    if not docs_in_topics.any():\n",
    "        # no documents were assigned to this topic\n",
    "        continue\n",
    "    #topic_coord[topic_num] = X_tsne_[top_topics==topic_num].mean(axis=0)\n",
    "    topic_coord[topic_num] = X_tsne_[np.argmax(top_topics==topic_num)]\n",
    "\n",
    "# plot topic summaries\n",
    "for i in range(len(topic_summaries)):\n",
    "    if np.isnan(topic_coord[i]).any():\n",
    "        continue\n",
    "    plt.text(topic_coord[i, 0], topic_coord[i, 1], topic_summaries[i])\n",
    "\n",
    "\n",
    "#plt.show()\n",
    "plt.savefig('tsne.png')"
   ]
  },
  {
   "cell_type": "code",
   "execution_count": 84,
   "metadata": {},
   "outputs": [
    {
     "data": {
      "text/plain": [
       "(30, 972)"
      ]
     },
     "execution_count": 84,
     "metadata": {},
     "output_type": "execute_result"
    }
   ],
   "source": [
    "X_.shape"
   ]
  },
  {
   "cell_type": "code",
   "execution_count": 85,
   "metadata": {},
   "outputs": [
    {
     "data": {
      "text/plain": [
       "'/Users/paul/Projects/kixlab/xproject/xproj-utils/promise-match/Promises LSI vizualization.html'"
      ]
     },
     "execution_count": 85,
     "metadata": {},
     "output_type": "execute_result"
    }
   ],
   "source": [
    "import numpy as np\n",
    "import bokeh.plotting as bp\n",
    "from bokeh.plotting import output_file, save\n",
    "from bokeh.models import HoverTool\n",
    "from random import shuffle\n",
    "\n",
    "colors = [\"#E495A5\", \"#E3979D\", \"#E19895\", \"#DE9A8E\", \"#DB9C86\", \"#D89F7F\", \"#D3A178\", \"#CEA372\", \"#C9A66D\", \"#C3A869\", \"#BDAB66\", \"#B6AD65\", \"#AFAF64\", \"#A7B166\", \"#9EB368\", \"#96B56C\", \"#8DB771\", \"#83B977\", \"#79BA7E\", \"#6FBB84\", \"#65BC8C\", \"#5ABD93\", \"#50BE9B\", \"#46BEA2\", \"#3FBEAA\", \"#39BEB1\", \"#37BDB8\", \"#3ABCBF\", \"#41BBC5\", \"#4ABACB\", \"#55B8D0\", \"#61B6D5\", \"#6DB4D9\", \"#79B1DC\", \"#85AEDF\", \"#91ACE1\", \"#9CA9E2\", \"#A6A6E2\", \"#B0A3E1\", \"#B9A0E0\", \"#C29DDE\", \"#C99ADB\", \"#D098D7\", \"#D596D3\", \"#DA95CD\", \"#DE94C8\", \"#E093C1\", \"#E393BB\", \"#E493B4\", \"#E494AC\"]\n",
    "shuffle(colors)\n",
    "colormap = np.array(colors)\n",
    "title = 'Promises LSI vizualization'\n",
    "num_example = len(X_)\n",
    "\n",
    "plot = bp.figure(plot_width=1200, plot_height=700,\n",
    "                     title=title,\n",
    "                     tools=\"pan,wheel_zoom,box_zoom,reset,hover,previewsave\",\n",
    "                     min_border=1)\n",
    "\n",
    "plot.scatter(x='x', y='y',\n",
    "                 color='color',\n",
    "                 source=bp.ColumnDataSource({\n",
    "                   \"x\": X_tsne_[:, 0], \"y\": X_tsne_[:, 1],\n",
    "                   \"content\": np.array(['%s %s %d' % (text[0], text[2][0], text[2][1]) for text in texts])[_idx],\n",
    "                   \"topic_key\": top_topics,\n",
    "                   \"topic_summary\": [topic_summaries[i] for i in top_topics],\n",
    "                   \"color\": colormap[top_topics]\n",
    "                   }))\n",
    "\n",
    "for i in range(len(topic_summaries)):\n",
    "    if np.isnan(topic_coord[i]).any():\n",
    "        continue\n",
    "    plot.text(topic_coord[i, 0], topic_coord[i, 1], [topic_summaries[i]])\n",
    "\n",
    "    \n",
    "hover = plot.select(dict(type=HoverTool))\n",
    "hover.tooltips = {\"content\": \"@content - topic: @topic_key @topic_summary\"}\n",
    "output_file('{}.html'.format(title))\n",
    "save(plot)\n"
   ]
  },
  {
   "cell_type": "code",
   "execution_count": null,
   "metadata": {
    "collapsed": true
   },
   "outputs": [],
   "source": []
  },
  {
   "cell_type": "code",
   "execution_count": null,
   "metadata": {
    "collapsed": true
   },
   "outputs": [],
   "source": []
  }
 ],
 "metadata": {
  "kernelspec": {
   "display_name": "Python 3",
   "language": "python",
   "name": "python3"
  },
  "language_info": {
   "codemirror_mode": {
    "name": "ipython",
    "version": 3
   },
   "file_extension": ".py",
   "mimetype": "text/x-python",
   "name": "python",
   "nbconvert_exporter": "python",
   "pygments_lexer": "ipython3",
   "version": "3.4.3"
  }
 },
 "nbformat": 4,
 "nbformat_minor": 2
}
